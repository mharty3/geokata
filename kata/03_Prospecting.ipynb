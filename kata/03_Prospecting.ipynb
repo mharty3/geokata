{
 "cells": [
  {
   "cell_type": "code",
   "execution_count": 1,
   "metadata": {},
   "outputs": [
    {
     "name": "stdout",
     "output_type": "stream",
     "text": [
      "200\n"
     ]
    },
    {
     "data": {
      "text/markdown": [
       "# Prospecting\n",
       "\n",
       "We have 5 arrays of 4096 elements each. Each array represents a map as a 'raster' with 64 &times; 64 = 4096 pixels, and is given as a row in the dataset. Each pixel is represented by a single integer, taking values from 0 to 8.\n",
       "\n",
       "The maps represent different things. In order, they are:\n",
       "\n",
       "1. Reliability of well data.\n",
       "2. Reliability of seismic data.\n",
       "3. Porosity from wells and conceptual models.\n",
       "4. Fracture density from wells and seismic.\n",
       "5. Our land position (1 denotes 'our land').\n",
       "\n",
       "We need to answer the following questions:\n",
       "\n",
       "1. How many pixels have zero total reliability?\n",
       "2. How many pixels are predicted to have better than 50th percentile (P50) porosity and better than P50 fracture density?\n",
       "3. How many of these pixels have non-zero reliability and are on our land? These blobs are our _prospects_.\n",
       "4. Find the product of the (x, y) coordinates of the cell containing the centre of mass of the largest _prospect_ blob.\n",
       "\n",
       "For question 4, a centre of mass at (3.4, 12.6) is in the cell (3, 12) and you would respond with 3 &times; 12 = **36**.\n",
       "\n",
       "We'll consider blobs to be connected if they have directly neighbouring pixels. In example A, below, there are 3 'blobs' of one pixel each. In example B there are 2 blobs, each with three pixels.\n",
       "\n",
       "      A        B\n",
       "    1 0 1    1 1 0\n",
       "    0 1 0    1 0 1\n",
       "    0 0 0    0 1 1\n",
       "\n",
       "\n",
       "## Example\n",
       "\n",
       "Here is a dataset of smaller maps. Every row represents a map, each 3 &times 3 pixels:\n",
       "\n",
       "    example = \"\"\"0,1,0,1,2,1,0,1,0\n",
       "                 2,1,0,1,1,1,0,1,0\n",
       "                 0,1,2,1,3,1,1,2,2\n",
       "                 0,2,1,2,3,1,1,3,2\n",
       "                 1,1,1,1,1,1,0,0,0\"\"\"\n",
       "\n",
       "If we re-shaped each row to make a 3 &times; 3 map, the maps would look like:\n",
       "\n",
       "      1       2       3       4       5    <--- map number\n",
       "    0 1 0   2 1 0   0 1 2   0 2 1   1 1 1\n",
       "    1 2 1   1 1 1   1 3 1   2 3 1   1 1 1\n",
       "    0 1 0   0 1 0   1 2 2   1 3 2   0 0 0   \n",
       "\n",
       "Here's how we might answer the questions:\n",
       "\n",
       "1. There are **3** pixels with zeros in both of the reliability maps (the first two maps).\n",
       "1. The P50 values on maps 3 and 4 are 1 and 2 respectively. There are **2** pixels that are higher on both maps.\n",
       "1. Of those pixels, **1** has non-zero reliability and is on our land (map 5).\n",
       "1. The coordinates of that pixels are (1, 1) so the product of those coordinates is **1**.\n",
       "\n",
       "\n",
       "## Hints\n",
       "\n",
       "It's likely that the `scipy.ndimage.measurements` module will be useful in answering question 4. For example, if you have an array `arr` like:\n",
       "\n",
       "    0 1 1\n",
       "    0 0 0\n",
       "    1 0 0\n",
       "\n",
       "Then `scipy.ndimage.measurements.label()` will return two things: the labels and the number 2 (meaning it found 2 objects). The labels have the same shape as the original 'map':\n",
       "\n",
       "    0 1 1   <--- 1 denotes 'object 1'\n",
       "    0 0 0   <--- 0 denotes 'background', i.e. no objects\n",
       "    2 0 0   <--- 2 denotes 'object 2'\n",
       "\n",
       "Once you have labels, you can get the centre of mass of the object labelled `3` with `scipy.ndimage.measurements.center_of_mass(arr, labels, 3)`.\n",
       "\n",
       "We will use the default behaviour of the `scipy.ndimage.measurements.label()` function to decide if things are separate objects.\n",
       "\n",
       "\n",
       "## A quick reminder how this works\n",
       "\n",
       "You can retrieve your data by choosing any Python string as a **`<KEY>`** and substituting here:\n",
       "    \n",
       "    https://kata.geosci.ai/challenge/prospecting?key=<KEY>\n",
       "                                                     ^^^^^\n",
       "                                                     use your own string here\n",
       "\n",
       "To answer question 1, make a request like:\n",
       "\n",
       "    https://kata.geosci.ai/challenge/prospecting?key=<KEY>&question=1&answer=1234\n",
       "                                                     ^^^^^          ^        ^^^^\n",
       "                                                     your key       Q        your answer\n",
       "\n",
       "[Complete instructions at kata.geosci.ai](https://kata.geosci.ai/challenge)\n",
       "\n",
       "----\n",
       "\n",
       "© 2020 Agile Scientific, licensed CC-BY"
      ],
      "text/plain": [
       "<IPython.core.display.Markdown object>"
      ]
     },
     "execution_count": 1,
     "metadata": {},
     "output_type": "execute_result"
    }
   ],
   "source": [
    "import requests\n",
    "from IPython.display import Markdown\n",
    "\n",
    "url = 'https://kata.geosci.ai/challenge/prospecting'\n",
    "r = requests.get(url)\n",
    "print(r.status_code)\n",
    "Markdown(r.text)"
   ]
  },
  {
   "cell_type": "code",
   "execution_count": 2,
   "metadata": {},
   "outputs": [
    {
     "name": "stdout",
     "output_type": "stream",
     "text": [
      "<Response [200]>\n"
     ]
    }
   ],
   "source": [
    "my_key = \"MH - :)\"\n",
    "params = {'key': my_key}\n",
    "r = requests.get(url, params)\n",
    "print(r)\n",
    "source = r.text"
   ]
  },
  {
   "cell_type": "code",
   "execution_count": 26,
   "metadata": {},
   "outputs": [],
   "source": [
    "import numpy as np\n",
    "import matplotlib.pyplot as plt\n",
    "from scipy.ndimage.measurements import label, center_of_mass\n",
    "\n",
    "\n",
    "def preprocess_arrays(source):\n",
    "    \"\"\"Return an array of shape (5, 64, 64) from the data provided by the challenge \"\"\"\n",
    "    arrays = [(s.split(',')) for s in source.split('\\n')]\n",
    "    a = np.array(arrays).astype(int)\n",
    "    a = a.reshape((5, 64, 64))\n",
    "    return a\n",
    "\n",
    "\n",
    "def plot_initial_maps(a):\n",
    "    fig, ax = plt.subplots(ncols=5, figsize=(24, 6), sharey=True)\n",
    "    titles = ['Well Reliability', 'Seismic Reliability', 'Porosity', 'Fracture Density', 'Land']\n",
    "    for i in range(5):\n",
    "        ax[i].imshow(a[i])\n",
    "        ax[i].set_title(titles[i])\n",
    "        \n",
    "    return fig\n",
    "\n",
    "def generate_decision_maps(a):\n",
    "    \"\"\"Return an array of shape (4, 64, 64) containing the decision maps from the source array\n",
    "    \n",
    "    Input array shape: (5, 64, 64)\n",
    "    ------------\n",
    "    a[0]: Reliability of well data.\n",
    "    a[1]: Reliability of seismic data.\n",
    "    a[2]: Porosity from wells and conceptual models.\n",
    "    a[3]: Fracture density from wells and seismic.\n",
    "    a[4]: Our land position (1 denotes 'our land') \n",
    "    \n",
    "    Returns: array of shape (4, 64, 64)\n",
    "    -----------\n",
    "    a[0]: non zero reliability combines well and seismic\n",
    "    a[1]: >P50 porosity\n",
    "    a[2]: >P50 fracture density\n",
    "    a[3]: land ownership, identical to input[4]\n",
    "    \"\"\"\n",
    "    \n",
    "    decision_array = np.empty((4, 64, 64))\n",
    "    \n",
    "    # non zero reliability\n",
    "    decision_array[0] = np.any(a[0:2], axis=0)\n",
    "    \n",
    "    # P50 porosity\n",
    "    decision_array[1] = a[2] > np.percentile(a[2], 50)\n",
    "    \n",
    "    #p50 fracture density\n",
    "    decision_array[2] = a[3] > np.percentile(a[3], 50)\n",
    "    \n",
    "    # land ownership\n",
    "    decision_array[3] = a[4].astype('bool')\n",
    "    \n",
    "    return decision_array\n",
    "\n",
    "\n",
    "def owned_prospects(decision_maps):\n",
    "    \"\"\"Combine decision maps to find where all conditions are True\"\"\"\n",
    "    return np.all(decision_maps, axis=0)\n",
    "\n",
    "\n",
    "def plot_decision_maps(decision_maps):\n",
    "    \n",
    "    fig, ax = plt.subplots(ncols=4, figsize=(24, 6), sharey=True)\n",
    "    titles = ['Data Reliability', '>P50 Porosity', '>P50 Fracture Density', 'Land Ownership']\n",
    "    for i in range(3):\n",
    "        ax[i].imshow(decision_maps[i])\n",
    "        ax[i].set_title(titles[i])\n",
    "    \n",
    "    # combine the first three decision maps into a geologic prospect map\n",
    "    ax[3].imshow(np.all(decision_maps[0:3], axis=0))\n",
    "    ax[3].set_title('Geologic Prospects')\n",
    "    \n",
    "\n",
    "def plot_prospects_vs_land(decision_maps):\n",
    "    fig, ax = plt.subplots(ncols=3, figsize=(18, 6), sharey=True)\n",
    "    titles = ['Geologic Prospects', 'Land Ownership', 'Owned Prospects']\n",
    "   \n",
    "    # combine the first three decision maps into a prospect map\n",
    "    prospects = np.all(decision_maps[0:3], axis=0)\n",
    "    ax[0].imshow(prospects)\n",
    "    ax[0].set_title('Geologic Prospects')\n",
    "    \n",
    "    # land map\n",
    "    ax[1].imshow(decision_maps[3])\n",
    "    ax[1].set_title('Land Ownership')\n",
    "    \n",
    "    # combine land and prospects\n",
    "    owned_prospects = np.all([prospects, decision_maps[3]], axis=0)\n",
    "    ax[2].imshow(owned_prospects)\n",
    "    ax[2].set_title('Owned Prospects')\n",
    "    \n",
    "    \n",
    "def identify_prospect_blobs(prospect_map):\n",
    "    \"\"\"Returns an array where each blob has a unique integer value\n",
    "    and the cell of the array that represents the center of the largest blob\"\"\"\n",
    "    \n",
    "    # find and label the objects\n",
    "    objects, _ = label(prospect_map)\n",
    "    \n",
    "    # count the number of cells within each object\n",
    "    unique, counts = np.unique(objects[objects != 0], return_counts=True)\n",
    "    \n",
    "    # find center of largest blob\n",
    "    center_of_largest_blob = center_of_mass(prospect_map, objects, unique[counts.argmax()])\n",
    "    \n",
    "    cell_containing_the_center = int(center_of_largest_blob[0]), int(center_of_largest_blob[1])\n",
    "    \n",
    "    return objects, cell_containing_the_center\n",
    "    \n",
    "\n",
    "def plot_blobs(blobs, center_of_largest_blob):\n",
    "    fig, ax = plt.subplots()\n",
    "    ax.imshow(blobs)\n",
    "    ax.plot(center_of_largest_blob[1], center_of_largest_blob[0], marker='X', c='k', markersize=16)\n",
    "    ax.set_title('X Marks the Spot')\n",
    "    \n",
    "    return fig\n"
   ]
  },
  {
   "cell_type": "markdown",
   "metadata": {},
   "source": [
    "## Visualize input data"
   ]
  },
  {
   "cell_type": "code",
   "execution_count": 27,
   "metadata": {},
   "outputs": [
    {
     "data": {
      "image/png": "[encoded data removed]",
      "text/plain": [
       "<Figure size 1728x432 with 5 Axes>"
      ]
     },
     "metadata": {
      "needs_background": "light"
     },
     "output_type": "display_data"
    }
   ],
   "source": [
    "a = preprocess_arrays(source)\n",
    "fig = plot_initial_maps(a)\n",
    "fig.savefig('../img/property_maps.png', dpi=600)"
   ]
  },
  {
   "cell_type": "markdown",
   "metadata": {},
   "source": [
    "## Generate decision maps and geologic prospects"
   ]
  },
  {
   "cell_type": "code",
   "execution_count": 5,
   "metadata": {},
   "outputs": [
    {
     "data": {
      "image/png": "[encoded data removed]",
      "text/plain": [
       "<Figure size 1728x432 with 4 Axes>"
      ]
     },
     "metadata": {
      "needs_background": "light"
     },
     "output_type": "display_data"
    }
   ],
   "source": [
    "decision_maps = generate_decision_maps(a)\n",
    "plot_decision_maps(decision_maps)"
   ]
  },
  {
   "cell_type": "markdown",
   "metadata": {},
   "source": [
    "## Filter the prospects by owned acreage"
   ]
  },
  {
   "cell_type": "code",
   "execution_count": 6,
   "metadata": {},
   "outputs": [
    {
     "data": {
      "image/png": "[encoded data removed]",
      "text/plain": [
       "<Figure size 1296x432 with 3 Axes>"
      ]
     },
     "metadata": {
      "needs_background": "light"
     },
     "output_type": "display_data"
    }
   ],
   "source": [
    "plot_prospects_vs_land(decision_maps)\n",
    "final_prospect_map = owned_prospects(decision_maps)"
   ]
  },
  {
   "cell_type": "markdown",
   "metadata": {},
   "source": [
    "# Identify individual prospect blobs"
   ]
  },
  {
   "cell_type": "code",
   "execution_count": 23,
   "metadata": {},
   "outputs": [
    {
     "data": {
      "image/png": "[encoded data removed]",
      "text/plain": [
       "<Figure size 432x288 with 1 Axes>"
      ]
     },
     "metadata": {
      "needs_background": "light"
     },
     "output_type": "display_data"
    }
   ],
   "source": [
    "blobs, center_of_largest = identify_prospect_blobs(final_prospect_map)\n",
    "fig = plot_blobs(blobs, center_of_largest)\n",
    "fig.savefig('../img/prospect_blobs.png')"
   ]
  },
  {
   "cell_type": "markdown",
   "metadata": {},
   "source": [
    "## Submit Answers"
   ]
  },
  {
   "cell_type": "code",
   "execution_count": null,
   "metadata": {},
   "outputs": [],
   "source": [
    "answer1 = np.sum(~decision_maps[0].astype(bool))\n",
    "answer2 = np.sum(np.all(decision_maps[1:3], axis=0))\n",
    "answer3 = np.sum(np.all(decision_maps, axis=0))\n",
    "answer4 = center_of_largest[0] * center_of_largest[1]\n",
    "\n",
    "print(answer1, answer2, answer3, answer4)"
   ]
  },
  {
   "cell_type": "code",
   "execution_count": null,
   "metadata": {},
   "outputs": [],
   "source": [
    "params = {'key': my_key,\n",
    "          'question': 1,\n",
    "          'answer': answer1\n",
    "         }\n",
    "\n",
    "r = requests.get(url, params)\n",
    "print(r)\n",
    "print(r.text)"
   ]
  },
  {
   "cell_type": "code",
   "execution_count": null,
   "metadata": {},
   "outputs": [],
   "source": [
    "params = {'key': my_key,\n",
    "          'question': 2,\n",
    "          'answer': answer2\n",
    "         }\n",
    "\n",
    "r = requests.get(url, params)\n",
    "print(r)\n",
    "print(r.text)"
   ]
  },
  {
   "cell_type": "code",
   "execution_count": null,
   "metadata": {},
   "outputs": [],
   "source": [
    "params = {'key': my_key,\n",
    "          'question': 3,\n",
    "          'answer': answer3\n",
    "         }\n",
    "\n",
    "r = requests.get(url, params)\n",
    "print(r)\n",
    "print(r.text)"
   ]
  },
  {
   "cell_type": "code",
   "execution_count": null,
   "metadata": {},
   "outputs": [],
   "source": [
    "params = {'key': my_key,\n",
    "          'question': 4,\n",
    "          'answer': answer4\n",
    "         }\n",
    "\n",
    "r = requests.get(url, params)\n",
    "print(r)\n",
    "print(r.text)"
   ]
  }
 ],
 "metadata": {
  "kernelspec": {
   "display_name": "Python 3",
   "language": "python",
   "name": "python3"
  },
  "language_info": {
   "codemirror_mode": {
    "name": "ipython",
    "version": 3
   },
   "file_extension": ".py",
   "mimetype": "text/x-python",
   "name": "python",
   "nbconvert_exporter": "python",
   "pygments_lexer": "ipython3",
   "version": "3.7.2"
  }
 },
 "nbformat": 4,
 "nbformat_minor": 4
}
