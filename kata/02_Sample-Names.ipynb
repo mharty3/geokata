{
 "cells": [
  {
   "cell_type": "code",
   "execution_count": 52,
   "metadata": {},
   "outputs": [
    {
     "name": "stdout",
     "output_type": "stream",
     "text": [
      "200\n"
     ]
    },
    {
     "data": {
      "text/markdown": [
       "# Sample names\n",
       "\n",
       "You have a set of sample names. They look like this:\n",
       "\n",
       "    001235_Ainsa_Sobrarbe_C_2016-04-20_PCx\n",
       "    ^^^^^^ ^^^^^ ^^^^^^^^ ^ ^^^^^^^^^^ ^^^\n",
       "      1      2      3     4      5      6\n",
       "\n",
       "A **valid name** consists of 6 parts separated by underscores. The parts are underlined, above. Having 6 such parts is enough to be called 'valid' (though there may be other problems, for example with the spelling or formatting of individual parts).\n",
       "\n",
       "The 6 parts are:\n",
       "\n",
       "- **Unique identifier** consisting of 6 characters.\n",
       "- **Basin name.** Note that spellings are not guaranteed to be correct.\n",
       "- **Unit or Formation name.** Note that spellings are not guaranteed to be correct.\n",
       "- **Specimen type**, either H or C (hand or core).\n",
       "- **Date**, which must be in ISO 8601 YYYY-MM-DD format to be considered correct.\n",
       "- **Preparation codes** of at least one character.\n",
       "\n",
       "We need to extract some information from this dataset.\n",
       "        \n",
       "1. How many valid sample names are there?\n",
       "2. How many valid samples were taken in the Ainsa basin? Include records with misspelt basin names.\n",
       "3. What's the longest period of days with no valid samples taken in Ainsa?\n",
       "\n",
       "If looking for misspellings, we'll assume that any word starting and ending in the same letters, but with the middle letters scrambled, is the same word. So 'Anisa' is a misspelling of 'Ainsa', but 'Aimsa' is not. We'll also assume that the spelling with the most occurrences is the correct spelling.\n",
       "\n",
       "\n",
       "## Example\n",
       "\n",
       "Here's some sample data:\n",
       "\n",
       "    001235_Ainsa_Sobrarbe_C_2016-04-20_PCx\n",
       "    001236_Ainsa_Sobrarbe_H_2016-04-21_P\n",
       "    001237_Anisa_Sobrarbe_H_2016-04-29_TCx\n",
       "    001238_Sorbas_Gochar_2017-06-03_PxM\n",
       "    001238_Sorbas_Gochar_C_2017-06-03_PxM\n",
       "    001240_SORBAS_Gochar_C_2017-06-03_PxM\n",
       "\n",
       "Let's answer the 3 questions for this sample dataset:\n",
       "\n",
       "- There are **5** valid names (and 1 invalid one, with no specimen type).\n",
       "- The Ainsa Basin appears in **3** sample names (including 1 misspelling).\n",
       "- There is a **7** day period with no samples taken, between 21 April and 29 April.\n",
       "\n",
       "\n",
       "## Hints\n",
       "\n",
       "It's likely that the `datetime` library will be useful in answering question 3. In particular, this code is useful:\n",
       "\n",
       "    from datetime import datetime\n",
       "    datetime.fromisoformat('2016-07-03')\n",
       "    \n",
       "If that command fails on a date, then you should consider the date format incorrect and ignore that record.\n",
       "\n",
       "\n",
       "## A quick reminder how this works\n",
       "\n",
       "You can retrieve your data by choosing any Python string as a **`<KEY>`** and substituting here:\n",
       "    \n",
       "    https://kata.geosci.ai/challenge/sample-names?key=<KEY>\n",
       "                                                      ^^^^^\n",
       "                                                      use your own string here\n",
       "\n",
       "To answer question 1, make a request like:\n",
       "\n",
       "    https://kata.geosci.ai/challenge/sample-names?key=<KEY>&question=1&answer=1234\n",
       "                                                      ^^^^^          ^        ^^^^\n",
       "                                                      your key       Q        your answer\n",
       "\n",
       "[Complete instructions at kata.geosci.ai](https://kata.geosci.ai/challenge)\n",
       "\n",
       "----\n",
       "\n",
       "© 2020 Agile Scientific, licensed CC-BY"
      ],
      "text/plain": [
       "<IPython.core.display.Markdown object>"
      ]
     },
     "execution_count": 52,
     "metadata": {},
     "output_type": "execute_result"
    }
   ],
   "source": [
    "import requests\n",
    "from IPython.display import Markdown\n",
    "\n",
    "url = 'https://kata.geosci.ai/challenge/sample-names'\n",
    "r = requests.get(url)\n",
    "print(r.status_code)\n",
    "Markdown(r.text)"
   ]
  },
  {
   "cell_type": "code",
   "execution_count": 53,
   "metadata": {},
   "outputs": [],
   "source": [
    "example_input = \"\"\"001235_Ainsa_Sobrarbe_C_2016-04-20_PCx\n",
    "                    001236_Ainsa_Sobrarbe_H_2016-04-21_P\n",
    "                    001237_Anisa_Sobrarbe_H_2016-04-29_TCx\n",
    "                    001238_Sorbas_Gochar_2017-06-03_PxM\n",
    "                    001238_Sorbas_Gochar_C_2017-06-03_PxM\n",
    "                    001240_SORBAS_Gochar_C_2017-06-03_PxM\"\"\""
   ]
  },
  {
   "cell_type": "code",
   "execution_count": 273,
   "metadata": {},
   "outputs": [],
   "source": [
    "import pandas as pd\n",
    "from collections import Counter\n",
    "def samples_to_df(samples):\n",
    "    \"\"\"Parse all specimens into a dataframe. Remove invalid entries that do not have all 6 attributes\"\"\"\n",
    "    samples = [sample.strip() for sample in samples.split('\\n')] # split by line and remove whitespace\n",
    "    samples = [sample.split('_') for sample in samples]\n",
    "    \n",
    "    df = pd.DataFrame(samples, columns=['uid', 'basin_name', 'formation_name', 'specimen_type', 'date', 'prep_code'])\n",
    "    \n",
    "    df = df.dropna() # remove invalid entries\n",
    "    #df['date'] = pd.to_datetime(df['date'], format='%Y-%m-%d', errors='ignore') # errors=ignore: challenge considers entries with invalid dates to still be valid entries\n",
    "    df = df.reset_index()\n",
    "    return df\n",
    "\n",
    "\n",
    "def is_misspelling(standard_string, check_string):\n",
    "    \"\"\"Return True if check_string is a mispelling of standard string under the rules of the challenge:\n",
    "    Any word starting and ending with the same letters, but with the middle letters scrambled is considered a mispelling\"\"\"\n",
    "    \n",
    "    standard_string = standard_string.lower().strip()\n",
    "    check_string = check_string.lower().strip()    \n",
    "    \n",
    "    if ((standard_string[0] == check_string[0]) and \n",
    "        (standard_string[-1] == check_string[-1]) and \n",
    "        (Counter(standard_string) == Counter(check_string))):\n",
    "        \n",
    "        return True\n",
    "    else:\n",
    "        return False\n",
    "    \n",
    "assert is_misspelling('Ainsa', 'ainsa')\n",
    "assert is_misspelling('Ainsa', 'Ansia')\n",
    "assert not is_mispelling('Ainsa', 'naisa')\n",
    "assert not is_misspelling('Ainsa', 'Ainssa')\n",
    "\n",
    "\n",
    "def find_max_date_gap(df):\n",
    "    df.loc[:, 'date'] = pd.to_datetime(df['date'], format='%Y-%m-%d', errors='coerce')\n",
    "    df.loc[:, 'gaps'] = df.sort_values(by='date').loc[:, 'date'].diff() # find the difference between dates\n",
    "    df.loc[:, 'period_w_no_collection'] = df.loc[:, 'gaps'].dt.days - 1 # the period between the dates\n",
    "    return(df['period_w_no_collection'].max())\n",
    "\n",
    "\n",
    "df = samples_to_df(example_input)\n",
    "ainsa_samples = df[df['basin_name'].apply(lambda x: is_misspelling('Ainsa', x))]\n",
    "\n",
    "assert df.shape[0] == 5\n",
    "assert ainsa_samples.shape[0] == 3\n",
    "assert find_max_date_gap(ainsa_samples) == 7\n"
   ]
  },
  {
   "cell_type": "markdown",
   "metadata": {},
   "source": [
    "## Get Data"
   ]
  },
  {
   "cell_type": "code",
   "execution_count": 275,
   "metadata": {},
   "outputs": [
    {
     "name": "stdout",
     "output_type": "stream",
     "text": [
      "<Response [200]>\n"
     ]
    }
   ],
   "source": [
    "my_key = \"MH - :)\"\n",
    "params = {'key': my_key}\n",
    "r = requests.get(url, params)\n",
    "print(r)\n",
    "samples = r.text"
   ]
  },
  {
   "cell_type": "code",
   "execution_count": 276,
   "metadata": {},
   "outputs": [
    {
     "name": "stdout",
     "output_type": "stream",
     "text": [
      "<class 'pandas.core.frame.DataFrame'>\n",
      "RangeIndex: 9121 entries, 0 to 9120\n",
      "Data columns (total 7 columns):\n",
      "index             9121 non-null int64\n",
      "uid               9121 non-null object\n",
      "basin_name        9121 non-null object\n",
      "formation_name    9121 non-null object\n",
      "specimen_type     9121 non-null object\n",
      "date              9121 non-null object\n",
      "prep_code         9121 non-null object\n",
      "dtypes: int64(1), object(6)\n",
      "memory usage: 498.9+ KB\n"
     ]
    }
   ],
   "source": [
    "df = samples_to_df(samples)\n",
    "df.info()"
   ]
  },
  {
   "cell_type": "code",
   "execution_count": 277,
   "metadata": {},
   "outputs": [
    {
     "data": {
      "text/html": [
       "<div>\n",
       "<style scoped>\n",
       "    .dataframe tbody tr th:only-of-type {\n",
       "        vertical-align: middle;\n",
       "    }\n",
       "\n",
       "    .dataframe tbody tr th {\n",
       "        vertical-align: top;\n",
       "    }\n",
       "\n",
       "    .dataframe thead th {\n",
       "        text-align: right;\n",
       "    }\n",
       "</style>\n",
       "<table border=\"1\" class=\"dataframe\">\n",
       "  <thead>\n",
       "    <tr style=\"text-align: right;\">\n",
       "      <th></th>\n",
       "      <th>index</th>\n",
       "      <th>uid</th>\n",
       "      <th>basin_name</th>\n",
       "      <th>formation_name</th>\n",
       "      <th>specimen_type</th>\n",
       "      <th>date</th>\n",
       "      <th>prep_code</th>\n",
       "    </tr>\n",
       "  </thead>\n",
       "  <tbody>\n",
       "    <tr>\n",
       "      <td>0</td>\n",
       "      <td>0</td>\n",
       "      <td>000067</td>\n",
       "      <td>Sorbas</td>\n",
       "      <td>Zorreras</td>\n",
       "      <td>C</td>\n",
       "      <td>2000-01-01</td>\n",
       "      <td>PTxM</td>\n",
       "    </tr>\n",
       "    <tr>\n",
       "      <td>1</td>\n",
       "      <td>1</td>\n",
       "      <td>000068</td>\n",
       "      <td>Sorbas</td>\n",
       "      <td>Gochar</td>\n",
       "      <td>H</td>\n",
       "      <td>2000-01-01</td>\n",
       "      <td>P</td>\n",
       "    </tr>\n",
       "    <tr>\n",
       "      <td>2</td>\n",
       "      <td>2</td>\n",
       "      <td>000069</td>\n",
       "      <td>Sorbas</td>\n",
       "      <td>Gochar</td>\n",
       "      <td>H</td>\n",
       "      <td>2000-01-02</td>\n",
       "      <td>PC</td>\n",
       "    </tr>\n",
       "    <tr>\n",
       "      <td>3</td>\n",
       "      <td>3</td>\n",
       "      <td>000070</td>\n",
       "      <td>Sorbas</td>\n",
       "      <td>Gochar</td>\n",
       "      <td>H</td>\n",
       "      <td>2000-01-02</td>\n",
       "      <td>TC</td>\n",
       "    </tr>\n",
       "    <tr>\n",
       "      <td>4</td>\n",
       "      <td>4</td>\n",
       "      <td>000071</td>\n",
       "      <td>SORBAS</td>\n",
       "      <td>Gochar</td>\n",
       "      <td>H</td>\n",
       "      <td>2000-01-03</td>\n",
       "      <td>PTC</td>\n",
       "    </tr>\n",
       "  </tbody>\n",
       "</table>\n",
       "</div>"
      ],
      "text/plain": [
       "   index     uid basin_name formation_name specimen_type        date prep_code\n",
       "0      0  000067     Sorbas       Zorreras             C  2000-01-01      PTxM\n",
       "1      1  000068     Sorbas         Gochar             H  2000-01-01         P\n",
       "2      2  000069     Sorbas         Gochar             H  2000-01-02        PC\n",
       "3      3  000070     Sorbas         Gochar             H  2000-01-02        TC\n",
       "4      4  000071     SORBAS         Gochar             H  2000-01-03       PTC"
      ]
     },
     "execution_count": 277,
     "metadata": {},
     "output_type": "execute_result"
    }
   ],
   "source": [
    "df.head()"
   ]
  },
  {
   "cell_type": "code",
   "execution_count": 127,
   "metadata": {},
   "outputs": [
    {
     "data": {
      "text/plain": [
       "jaca      1822\n",
       "sorbas    1766\n",
       "tremp     1670\n",
       "ainsa     1580\n",
       "asana     1412\n",
       "jcaa       162\n",
       "anisa      102\n",
       "termp       98\n",
       "trmep       93\n",
       "aisna       90\n",
       "aasna       76\n",
       "asnaa       75\n",
       "sorabs      59\n",
       "srobas      58\n",
       "sobras      58\n",
       "Name: basin_name, dtype: int64"
      ]
     },
     "execution_count": 127,
     "metadata": {},
     "output_type": "execute_result"
    }
   ],
   "source": [
    "df['basin_name'].str.lower().value_counts()"
   ]
  },
  {
   "cell_type": "markdown",
   "metadata": {},
   "source": [
    "### Time pd.to_datetime()"
   ]
  },
  {
   "cell_type": "code",
   "execution_count": 133,
   "metadata": {},
   "outputs": [
    {
     "name": "stdout",
     "output_type": "stream",
     "text": [
      "176 ms ± 6.75 ms per loop (mean ± std. dev. of 7 runs, 1 loop each)\n"
     ]
    }
   ],
   "source": [
    "%%timeit\n",
    "pd.to_datetime(df['date'])"
   ]
  },
  {
   "cell_type": "code",
   "execution_count": 141,
   "metadata": {},
   "outputs": [
    {
     "name": "stdout",
     "output_type": "stream",
     "text": [
      "168 ms ± 3.47 ms per loop (mean ± std. dev. of 7 runs, 1 loop each)\n"
     ]
    }
   ],
   "source": [
    "%%timeit\n",
    "pd.to_datetime(df['date'], infer_datetime_format=True)"
   ]
  },
  {
   "cell_type": "code",
   "execution_count": 134,
   "metadata": {},
   "outputs": [
    {
     "name": "stdout",
     "output_type": "stream",
     "text": [
      "30.1 ms ± 175 µs per loop (mean ± std. dev. of 7 runs, 10 loops each)\n"
     ]
    }
   ],
   "source": [
    "%%timeit\n",
    "pd.to_datetime(df['date'], format='%Y-%m-%d', errors='coerce')"
   ]
  },
  {
   "cell_type": "markdown",
   "metadata": {},
   "source": [
    "## Determine Answers"
   ]
  },
  {
   "cell_type": "code",
   "execution_count": 278,
   "metadata": {},
   "outputs": [
    {
     "name": "stdout",
     "output_type": "stream",
     "text": [
      "9121 1772 234.0\n"
     ]
    }
   ],
   "source": [
    "answer1 = df.shape[0]\n",
    "\n",
    "ainsa_basin_samples = df[df['basin_name'].apply(lambda x: is_misspelling('Ainsa', x))]\n",
    "answer2 = ainsa_basin_samples.shape[0]\n",
    "answer3 = find_max_date_gap(ainsa_basin_samples)\n",
    "\n",
    "print(answer1, answer2, answer3)"
   ]
  },
  {
   "cell_type": "code",
   "execution_count": 77,
   "metadata": {},
   "outputs": [
    {
     "name": "stdout",
     "output_type": "stream",
     "text": [
      "<Response [200]>\n",
      "Correct\n"
     ]
    }
   ],
   "source": [
    "params = {'key': my_key,\n",
    "          'question': 1,\n",
    "          'answer': answer1\n",
    "         }\n",
    "\n",
    "r = requests.get(url, params)\n",
    "print(r)\n",
    "print(r.text)"
   ]
  },
  {
   "cell_type": "code",
   "execution_count": 208,
   "metadata": {},
   "outputs": [
    {
     "name": "stdout",
     "output_type": "stream",
     "text": [
      "<Response [200]>\n",
      "Correct\n"
     ]
    }
   ],
   "source": [
    "params = {'key': my_key,\n",
    "          'question': 2,\n",
    "          'answer': answer2\n",
    "         }\n",
    "\n",
    "r = requests.get(url, params)\n",
    "print(r)\n",
    "print(r.text)"
   ]
  },
  {
   "cell_type": "code",
   "execution_count": 257,
   "metadata": {},
   "outputs": [
    {
     "name": "stdout",
     "output_type": "stream",
     "text": [
      "<Response [200]>\n",
      "Correct! The next challenge is: https://kata.geosci.ai/challenge/prospecting - good luck!\n"
     ]
    }
   ],
   "source": [
    "params = {'key': my_key,\n",
    "          'question': 3,\n",
    "          'answer': answer3\n",
    "         }\n",
    "\n",
    "r = requests.get(url, params)\n",
    "print(r)\n",
    "print(r.text)"
   ]
  }
 ],
 "metadata": {
  "kernelspec": {
   "display_name": "Python 3",
   "language": "python",
   "name": "python3"
  },
  "language_info": {
   "codemirror_mode": {
    "name": "ipython",
    "version": 3
   },
   "file_extension": ".py",
   "mimetype": "text/x-python",
   "name": "python",
   "nbconvert_exporter": "python",
   "pygments_lexer": "ipython3",
   "version": "3.7.2"
  }
 },
 "nbformat": 4,
 "nbformat_minor": 4
}
