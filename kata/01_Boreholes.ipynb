{
 "cells": [
  {
   "cell_type": "code",
   "execution_count": 1,
   "metadata": {},
   "outputs": [
    {
     "name": "stdout",
     "output_type": "stream",
     "text": [
      "200\n"
     ]
    },
    {
     "data": {
      "text/markdown": [
       "# Boreholes\n",
       "\n",
       "You have a list of boreholes. Each one has an (x, y) location. The locations are given as a Python string, and look like this:\n",
       "\n",
       "    ..., (12.1, 34.3), (56.5, 78.7), (90.9, 12.1),...\n",
       "    \n",
       "Your data, when you receive it, will be longer than this.\n",
       "    \n",
       "We're going to analyse these locations. We need the answers to the following questions:\n",
       "        \n",
       "1. How many boreholes are there? We'll call this number _n_.\n",
       "2. What's the distance, **to the nearest metre** between the first two boreholes in the list?\n",
       "3. What is the mean straight-line distance between all pairs of boreholes **to the nearest metre**? Call this _m_.\n",
       "4. There is a clump of boreholes. How many boreholes are in the clump? (A borehole is defined to be in a clump if the mean distance to its nearest _n_ / 5 neighbours is _m_ / 4 or less.)\n",
       "\n",
       "Please note that all your answers must be integers. If you get a float for an answer, round it.\n",
       "\n",
       "\n",
       "## Example\n",
       "\n",
       "Here are the locations of some boreholes:\n",
       "\n",
       "      (1, 4), (5, 4), (9, 3), (2, 8), (6, 4), (9, 9), (5, 5), (4, 3), (4, 5), (2, 1)\n",
       "      \n",
       "If we plot them, they look like this:\n",
       "\n",
       "    y\n",
       "    ^\n",
       "    9 - - - - - - - - - 0\n",
       "    8 - - 0 - - - - - - -\n",
       "    7 - - - - - - - - - -\n",
       "    6 - - - - - - - - - -\n",
       "    5 - - - - 0 0 - - - -\n",
       "    4 - 0 - - - 0 0 - - -\n",
       "    3 - - - - 0 - - - - 0\n",
       "    2 - - - - - - - - - -\n",
       "    1 - - 0 - - - - - - -\n",
       "    0 - - - - - - - - - -\n",
       "      0 1 2 3 4 5 6 7 8 9 > x\n",
       "    \n",
       "Here's how we'd answer the questions for this small dataset:\n",
       "\n",
       "- In this example, there are **10** wells (marked `0` on the plot above).\n",
       "- The distance between the first two boreholes in the list, (1, 4) and (5, 4), is **4**.\n",
       "- The mean distance between boreholes is 4.58... which to the nearest metre is **5**.\n",
       "- There are **4** wells in the clump. See below.\n",
       "\n",
       "Wells in the clump are marked `X` here (the borehole marked `O` does not meet the criterion):\n",
       "\n",
       "    y\n",
       "    ^\n",
       "    9 - - - - - - - - - 0\n",
       "    8 - - 0 - - - - - - -\n",
       "    7 - - - - - - - - - -\n",
       "    6 - - - - - - - - - -\n",
       "    5 - - - - X X - - - -\n",
       "    4 - 0 - - - X X - - -\n",
       "    3 - - - - O - - - - 0\n",
       "    2 - - - - - - - - - -\n",
       "    1 - - 0 - - - - - - -\n",
       "    0 - - - - - - - - - -\n",
       "      0 1 2 3 4 5 6 7 8 9 > x\n",
       "\n",
       "\n",
       "## A quick reminder how this works\n",
       "\n",
       "You can retrieve your data by choosing any Python string as a **`<KEY>`** and substituting here:\n",
       "    \n",
       "    https://kata.geosci.ai/challenge/boreholes?key=<KEY>\n",
       "                                                   ^^^^^\n",
       "                                                   use your own string here\n",
       "\n",
       "To answer question 1, make a request like:\n",
       "\n",
       "    https://kata.geosci.ai/challenge/boreholes?key=<KEY>&question=1&answer=1234\n",
       "                                                   ^^^^^          ^        ^^^^\n",
       "                                                   your key       Q        your answer\n",
       "\n",
       "[Complete instructions at kata.geosci.ai](https://kata.geosci.ai/challenge)\n",
       "\n",
       "----\n",
       "\n",
       "© 2020 Agile Scientific, licensed CC-BY"
      ],
      "text/plain": [
       "<IPython.core.display.Markdown object>"
      ]
     },
     "execution_count": 1,
     "metadata": {},
     "output_type": "execute_result"
    }
   ],
   "source": [
    "import requests\n",
    "from IPython.display import Markdown\n",
    "\n",
    "url = 'https://kata.geosci.ai/challenge/boreholes'  # <--- In week 2, you'll change the name.\n",
    "r = requests.get(url)\n",
    "print(r.status_code)\n",
    "Markdown(r.text)"
   ]
  },
  {
   "cell_type": "code",
   "execution_count": 2,
   "metadata": {},
   "outputs": [
    {
     "data": {
      "text/markdown": [
       "# Boreholes\n",
       "\n",
       "You have a list of boreholes. Each one has an (x, y) location. The locations are given as a Python string, and look like this:\n",
       "\n",
       "    ..., (12.1, 34.3), (56.5, 78.7), (90.9, 12.1),...\n",
       "    \n",
       "Your data, when you receive it, will be longer than this.\n",
       "    \n",
       "We're going to analyse these locations. We need the answers to the following questions:\n",
       "        \n",
       "1. How many boreholes are there? We'll call this number _n_.\n",
       "2. What's the distance, **to the nearest metre** between the first two boreholes in the list?\n",
       "3. What is the mean straight-line distance between all pairs of boreholes **to the nearest metre**? Call this _m_.\n",
       "4. There is a clump of boreholes. How many boreholes are in the clump? (A borehole is defined to be in a clump if the mean distance to its nearest _n_ / 5 neighbours is _m_ / 4 or less.)\n",
       "\n",
       "Please note that all your answers must be integers. If you get a float for an answer, round it.\n",
       "\n",
       "\n",
       "## Example\n",
       "\n",
       "Here are the locations of some boreholes:\n",
       "\n",
       "      (1, 4), (5, 4), (9, 3), (2, 8), (6, 4), (9, 9), (5, 5), (4, 3), (4, 5), (2, 1)\n",
       "      \n",
       "If we plot them, they look like this:\n",
       "\n",
       "    y\n",
       "    ^\n",
       "    9 - - - - - - - - - 0\n",
       "    8 - - 0 - - - - - - -\n",
       "    7 - - - - - - - - - -\n",
       "    6 - - - - - - - - - -\n",
       "    5 - - - - 0 0 - - - -\n",
       "    4 - 0 - - - 0 0 - - -\n",
       "    3 - - - - 0 - - - - 0\n",
       "    2 - - - - - - - - - -\n",
       "    1 - - 0 - - - - - - -\n",
       "    0 - - - - - - - - - -\n",
       "      0 1 2 3 4 5 6 7 8 9 > x\n",
       "    \n",
       "Here's how we'd answer the questions for this small dataset:\n",
       "\n",
       "- In this example, there are **10** wells (marked `0` on the plot above).\n",
       "- The distance between the first two boreholes in the list, (1, 4) and (5, 4), is **4**.\n",
       "- The mean distance between boreholes is 4.58... which to the nearest metre is **5**.\n",
       "- There are **4** wells in the clump. See below.\n",
       "\n",
       "Wells in the clump are marked `X` here (the borehole marked `O` does not meet the criterion):\n",
       "\n",
       "    y\n",
       "    ^\n",
       "    9 - - - - - - - - - 0\n",
       "    8 - - 0 - - - - - - -\n",
       "    7 - - - - - - - - - -\n",
       "    6 - - - - - - - - - -\n",
       "    5 - - - - X X - - - -\n",
       "    4 - 0 - - - X X - - -\n",
       "    3 - - - - O - - - - 0\n",
       "    2 - - - - - - - - - -\n",
       "    1 - - 0 - - - - - - -\n",
       "    0 - - - - - - - - - -\n",
       "      0 1 2 3 4 5 6 7 8 9 > x\n",
       "\n",
       "\n",
       "## A quick reminder how this works\n",
       "\n",
       "You can retrieve your data by choosing any Python string as a **`<KEY>`** and substituting here:\n",
       "    \n",
       "    https://kata.geosci.ai/challenge/boreholes?key=<KEY>\n",
       "                                                   ^^^^^\n",
       "                                                   use your own string here\n",
       "\n",
       "To answer question 1, make a request like:\n",
       "\n",
       "    https://kata.geosci.ai/challenge/boreholes?key=<KEY>&question=1&answer=1234\n",
       "                                                   ^^^^^          ^        ^^^^\n",
       "                                                   your key       Q        your answer\n",
       "\n",
       "[Complete instructions at kata.geosci.ai](https://kata.geosci.ai/challenge)\n",
       "\n",
       "----\n",
       "\n",
       "© 2020 Agile Scientific, licensed CC-BY"
      ],
      "text/plain": [
       "<IPython.core.display.Markdown object>"
      ]
     },
     "execution_count": 2,
     "metadata": {},
     "output_type": "execute_result"
    }
   ],
   "source": [
    "from IPython.display import Markdown\n",
    "Markdown(r.text)"
   ]
  },
  {
   "cell_type": "code",
   "execution_count": 3,
   "metadata": {},
   "outputs": [],
   "source": [
    "from scipy.spatial.distance import euclidean\n",
    "from itertools import combinations\n",
    "import numpy as np\n",
    "from scipy.spatial import cKDTree\n",
    "\n",
    "def borehole_string_to_list_of_coords(boreholes_string):\n",
    "    \"\"\"Return a list of tuples of (x, y) coordinates as floats from a string of boreholes\"\"\"\n",
    "    \n",
    "    boreholes_list = boreholes_string.split(',')\n",
    "    boreholes_list = [float(coord.strip('() ')) for coord in boreholes_list]\n",
    "    boreholes_list = [(x, y) for x, y in zip(boreholes_list[0:-1:2], boreholes_list[1::2])]\n",
    "    \n",
    "    return boreholes_list\n",
    "\n",
    "assert borehole_string_to_list_of_coords('(1, 4), (5, 4), (9, 3), (2, 8), (6, 4), (9, 9), (5, 5), (4, 3), (4, 5), (2, 1)')\\\n",
    " == [(1, 4), (5, 4), (9, 3), (2, 8), (6, 4), (9, 9), (5, 5), (4, 3), (4, 5), (2, 1)]\n",
    "\n",
    "\n",
    "def how_many_boreholes(boreholes):\n",
    "    return len(boreholes)\n",
    "\n",
    "\n",
    "def distance_between_first_two_boreholes(boreholes):\n",
    "    return int(euclidean(boreholes[0], boreholes[1]))\n",
    "\n",
    "assert distance_between_first_two_boreholes([(0,0), (0,1)]) == 1\n",
    "assert distance_between_first_two_boreholes([(0,0), (1,1)]) == 1\n",
    "\n",
    "\n",
    "def mean_distance_between_all_boreholes(boreholes):\n",
    "    pairs = combinations(boreholes, 2)\n",
    "    distances = [euclidean(*pair) for pair in pairs]\n",
    "    distances = np.array(distances)\n",
    "    return int(round(distances.mean()))\n",
    "\n",
    "assert mean_distance_between_all_boreholes([(1, 4), (5, 4), (9, 3), (2, 8), (6, 4), (9, 9), (5, 5), (4, 3), (4, 5), (2, 1)]) == int(5)\n",
    "\n",
    "\n",
    "def tree_mean_distance_between_boreholes(tree):\n",
    "    \"\"\"Calculate the mean distance between all borholes stored in a kd-tree to the nearest integer\"\"\"\n",
    "    \n",
    "    distance_matrix = tree.sparse_distance_matrix(tree, np.inf).todense()\n",
    "    distance_matrix = np.round(distance_matrix)\n",
    "    mean_dist = distance_matrix[distance_matrix > 0].mean()\n",
    "    \n",
    "    return mean_dist.round()\n",
    "\n",
    "\n",
    "def clump_count(tree):\n",
    "    k = tree.n / 5 \n",
    "    clump_dist = tree_mean_distance_between_boreholes(tree) / 4  # m/4\n",
    "    \n",
    "    dist, ind = tree.query(tree.data, k=k)\n",
    "    mask = dist[:, 1:].mean(axis=1) < clump_dist\n",
    "    \n",
    "    return mask.sum()\n"
   ]
  },
  {
   "cell_type": "markdown",
   "metadata": {},
   "source": [
    "## My submission"
   ]
  },
  {
   "cell_type": "code",
   "execution_count": 4,
   "metadata": {},
   "outputs": [],
   "source": [
    "my_key = \"MH - :)\"\n",
    "params = {'key': my_key}\n",
    "r = requests.get(url, params)\n",
    "boreholes_string = r.text\n",
    "\n",
    "boreholes_list = borehole_string_to_list_of_coords(boreholes_string)"
   ]
  },
  {
   "cell_type": "code",
   "execution_count": 5,
   "metadata": {},
   "outputs": [],
   "source": [
    "answer1 = len(boreholes_list)\n",
    "answer2 = distance_between_first_two_boreholes(boreholes_list)\n",
    "answer3 = mean_distance_between_all_boreholes(boreholes_list)"
   ]
  },
  {
   "cell_type": "code",
   "execution_count": 6,
   "metadata": {},
   "outputs": [
    {
     "name": "stdout",
     "output_type": "stream",
     "text": [
      "540 9501 11996\n"
     ]
    }
   ],
   "source": [
    "print(answer1, answer2, answer3)"
   ]
  },
  {
   "cell_type": "code",
   "execution_count": 7,
   "metadata": {},
   "outputs": [
    {
     "name": "stdout",
     "output_type": "stream",
     "text": [
      "<Response [200]>\n",
      "Correct\n"
     ]
    }
   ],
   "source": [
    "params = {'key': my_key,\n",
    "          'question': 1,\n",
    "          'answer': answer1\n",
    "         }\n",
    "\n",
    "r = requests.get(url, params)\n",
    "print(r)\n",
    "print(r.text)"
   ]
  },
  {
   "cell_type": "code",
   "execution_count": 8,
   "metadata": {},
   "outputs": [
    {
     "name": "stdout",
     "output_type": "stream",
     "text": [
      "<Response [200]>\n",
      "Incorrect\n"
     ]
    }
   ],
   "source": [
    "params['question'] = 2\n",
    "params['answer'] = answer2\n",
    "\n",
    "r = requests.get(url, params)\n",
    "print(r)\n",
    "print(r.text)"
   ]
  },
  {
   "cell_type": "code",
   "execution_count": 9,
   "metadata": {},
   "outputs": [
    {
     "name": "stdout",
     "output_type": "stream",
     "text": [
      "<Response [200]>\n",
      "Correct\n"
     ]
    }
   ],
   "source": [
    "params['question'] = 3\n",
    "params['answer'] = answer3\n",
    "\n",
    "r = requests.get(url, params)\n",
    "print(r)\n",
    "print(r.text)"
   ]
  },
  {
   "cell_type": "code",
   "execution_count": 10,
   "metadata": {},
   "outputs": [
    {
     "name": "stdout",
     "output_type": "stream",
     "text": [
      "<Response [200]>\n",
      "Correct! The next challenge is: https://kata.geosci.ai/challenge/sample-names - good luck!\n"
     ]
    }
   ],
   "source": [
    "params['question'] = 4\n",
    "params['answer'] = 122\n",
    "\n",
    "r = requests.get(url, params)\n",
    "print(r)\n",
    "print(r.text)"
   ]
  },
  {
   "cell_type": "markdown",
   "metadata": {},
   "source": [
    "## Experiments with KDTrees"
   ]
  },
  {
   "cell_type": "code",
   "execution_count": 11,
   "metadata": {},
   "outputs": [
    {
     "data": {
      "text/plain": [
       "122"
      ]
     },
     "execution_count": 11,
     "metadata": {},
     "output_type": "execute_result"
    }
   ],
   "source": [
    "tree = cKDTree(boreholes_list)\n",
    "clump_count(tree)"
   ]
  },
  {
   "cell_type": "markdown",
   "metadata": {},
   "source": [
    "We can get the distance to and the indexes of the k nearest neighbors. Note that if we call it on points already in the tree, the nearest neighbor is itself, and the distance is zero."
   ]
  },
  {
   "cell_type": "code",
   "execution_count": 12,
   "metadata": {},
   "outputs": [
    {
     "data": {
      "text/plain": [
       "(array([[   0.        ,  228.94849202,  325.53751151,  425.03738047],\n",
       "        [   0.        ,  440.90134996,  502.05141131, 1090.61463336],\n",
       "        [   0.        ,  166.20432275,  343.6217109 ,  401.89912478],\n",
       "        [   0.        ,  944.29502302, 1043.11084454, 1122.1152783 ],\n",
       "        [   0.        ,  177.7632583 ,  354.41738219,  386.73713295]]),\n",
       " array([[  0, 434, 135, 370],\n",
       "        [  1, 113, 418, 480],\n",
       "        [  2, 486, 254, 128],\n",
       "        [  3, 259, 530, 514],\n",
       "        [  4, 231, 142,  77]]))"
      ]
     },
     "execution_count": 12,
     "metadata": {},
     "output_type": "execute_result"
    }
   ],
   "source": [
    "dist, ind = tree.query(boreholes_list[0:5], k=4)\n",
    "dist, ind"
   ]
  },
  {
   "cell_type": "markdown",
   "metadata": {},
   "source": [
    "Plot the k nearest neighbors of a borehole"
   ]
  },
  {
   "cell_type": "code",
   "execution_count": 22,
   "metadata": {},
   "outputs": [
    {
     "data": {
      "image/png": "[encoded data removed]",
      "text/plain": [
       "<Figure size 432x288 with 1 Axes>"
      ]
     },
     "metadata": {
      "needs_background": "light"
     },
     "output_type": "display_data"
    }
   ],
   "source": [
    "import matplotlib.pyplot as plt\n",
    "\n",
    "n = 4\n",
    "k = answer1 / 5\n",
    "\n",
    "distance_matrix = tree.sparse_distance_matrix(tree, np.inf)\n",
    "dist, ind = tree.query(boreholes_list[n], k=k)\n",
    "ind=ind[np.where(ind<540)]\n",
    "\n",
    "fig, ax = plt.subplots()\n",
    "ax.scatter(*zip(*boreholes_list))\n",
    "ax.scatter(x=np.array(list(zip(*boreholes_list)))[0,ind],\n",
    "           y=np.array(list(zip(*boreholes_list)))[1,ind])\n",
    "ax.scatter(*boreholes_list[n], color='red', s=100)\n",
    "\n",
    "ax.set_title('Borehole Clump')\n",
    "ax.set_xlabel('X')\n",
    "ax.set_ylabel('Y')\n",
    "\n",
    "\n",
    "fig.savefig('../img/clump.png')"
   ]
  },
  {
   "cell_type": "code",
   "execution_count": 19,
   "metadata": {},
   "outputs": [
    {
     "data": {
      "text/plain": [
       "True"
      ]
     },
     "execution_count": 19,
     "metadata": {},
     "output_type": "execute_result"
    }
   ],
   "source": [
    "dist.mean() < answer3 / 4"
   ]
  },
  {
   "cell_type": "code",
   "execution_count": null,
   "metadata": {},
   "outputs": [],
   "source": [
    "query = (dist.mean(axis=1) < answer3/4)\n",
    "query.sum()"
   ]
  },
  {
   "cell_type": "markdown",
   "metadata": {},
   "source": [
    "Plot all the boreholes that are in a clump"
   ]
  },
  {
   "cell_type": "code",
   "execution_count": null,
   "metadata": {},
   "outputs": [],
   "source": [
    "fig, ax = plt.subplots()\n",
    "ax.scatter(x=np.array(list(zip(*boreholes_list)))[0, ~query],\n",
    "           y=np.array(list(zip(*boreholes_list)))[1, ~query])\n",
    "\n",
    "ax.scatter(x=np.array(list(zip(*boreholes_list)))[0, query],\n",
    "           y=np.array(list(zip(*boreholes_list)))[1, query])"
   ]
  },
  {
   "cell_type": "markdown",
   "metadata": {},
   "source": [
    "On this dataset, it is ~17 times faster(!!) to calculate the mean distance between all the boreholes using a kdtree than by using my original combinations and numpy method."
   ]
  },
  {
   "cell_type": "code",
   "execution_count": 23,
   "metadata": {},
   "outputs": [
    {
     "name": "stdout",
     "output_type": "stream",
     "text": [
      "957 µs ± 24.2 µs per loop (mean ± std. dev. of 7 runs, 1000 loops each)\n"
     ]
    }
   ],
   "source": [
    "%%timeit\n",
    "tree = cKDTree(boreholes_list)"
   ]
  },
  {
   "cell_type": "code",
   "execution_count": 24,
   "metadata": {},
   "outputs": [
    {
     "name": "stdout",
     "output_type": "stream",
     "text": [
      "997 ms ± 48.7 ms per loop (mean ± std. dev. of 7 runs, 1 loop each)\n"
     ]
    }
   ],
   "source": [
    "%%timeit\n",
    "distance_matrix = tree.sparse_distance_matrix(tree, np.inf).todense()\n",
    "distance_matrix = np.round(distance_matrix)\n",
    "distance_matrix[distance_matrix > 0].mean().round()"
   ]
  },
  {
   "cell_type": "code",
   "execution_count": 25,
   "metadata": {},
   "outputs": [
    {
     "name": "stdout",
     "output_type": "stream",
     "text": [
      "15.9 s ± 745 ms per loop (mean ± std. dev. of 7 runs, 1 loop each)\n"
     ]
    }
   ],
   "source": [
    "%%timeit\n",
    "mean_distance_between_all_boreholes(boreholes_list)"
   ]
  },
  {
   "cell_type": "code",
   "execution_count": null,
   "metadata": {},
   "outputs": [],
   "source": []
  }
 ],
 "metadata": {
  "kernelspec": {
   "display_name": "Python 3",
   "language": "python",
   "name": "python3"
  },
  "language_info": {
   "codemirror_mode": {
    "name": "ipython",
    "version": 3
   },
   "file_extension": ".py",
   "mimetype": "text/x-python",
   "name": "python",
   "nbconvert_exporter": "python",
   "pygments_lexer": "ipython3",
   "version": "3.7.2"
  }
 },
 "nbformat": 4,
 "nbformat_minor": 4
}
