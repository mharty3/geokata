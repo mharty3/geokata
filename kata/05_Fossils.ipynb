{
 "cells": [
  {
   "cell_type": "code",
   "execution_count": 100,
   "metadata": {},
   "outputs": [
    {
     "name": "stdout",
     "output_type": "stream",
     "text": [
      "200\n"
     ]
    },
    {
     "data": {
      "text/markdown": [
       "# Fossil hunting\n",
       "\n",
       "We have some fossil abundance data. Each record contains a number, which represents a geological age, and zero or more fossil symbols. One symbol represents one example of that fossil. For example, we might have a record like this:\n",
       "\n",
       "    349.8🦐🐚🐚🐟🐟🦐\n",
       "    \n",
       "The number is the age of the sample in units of 'millions of years before the present', to 4 significant figures, and is unique (there are no duplicate records). It is immediately followed by the fossil counts for that sample. For example, this record indicates that the samples collected from rocks with age = 349.8 Ma contained two shrimps, two gastropod shells, and two fish specimens.\n",
       "\n",
       "Your actual dataset will be much larger than this. It's also less organized: the records are not in order.\n",
       "\n",
       "There are four questions to answer about your data:\n",
       "\n",
       "1. How many samples are there of the most abundant organism?\n",
       "2. What is the age of the oldest record with maximum diversity?\n",
       "3. What is the span (first to last appearance) of the most abundant organism?\n",
       "4. At what age is the latest appearance of the last fossil to appear?\n",
       "\n",
       "When the answer is an age, give 1 decimal place of precision.\n",
       "\n",
       "\n",
       "## Example\n",
       "\n",
       "    345.1🐟\n",
       "    346.2🐚🐚🐟\n",
       "    348.7🐚🦐\n",
       "    349.8🦐🐚🐚🐟🐟🦐\n",
       "    350.0🐚🦐🦐🐚🦐🦐\n",
       "    351.7🦐🐟🦐\n",
       "    353.8🦐\n",
       "    354.9\n",
       "\n",
       "We'd answer the questions this way:\n",
       "\n",
       "1. The most abundant organism is the shrimp, with **10** specimens.\n",
       "2. The oldest record with the maximum diversity (3 fossil types) is **349.8**\n",
       "3. The span of the most abundant organism (the shrimp) is 353.8 - 348.7 = **5.1**\n",
       "4. The last fossil to appear (the shell) last appears at an age of **346.2**\n",
       "\n",
       "\n",
       "## A quick reminder how this works\n",
       "\n",
       "This document is formatted in Markdown.\n",
       "\n",
       "You can retrieve your data, which is always a string, by choosing any Python string as a **`<KEY>`** and substituting here:\n",
       "    \n",
       "    https://kata.geosci.ai/challenge/fossil-hunting?key=<KEY>\n",
       "                                                        ^^^^^\n",
       "                                                        use your own string here\n",
       "\n",
       "To answer question 1, make a request like:\n",
       "\n",
       "    https://kata.geosci.ai/challenge/fossil-hunting?key=<KEY>&question=1&answer=1234\n",
       "                                                        ^^^^^          ^        ^^^^\n",
       "                                                        your key       Q        your answer\n",
       "\n",
       "To get a hint for question 1, do this (a key is not needed):\n",
       "\n",
       "    https://kata.geosci.ai/challenge/fossil-hunting?question=1\n",
       "                                                             ^\n",
       "                                                             Q\n",
       "\n",
       "[Complete instructions at kata.geosci.ai](https://kata.geosci.ai/challenge)\n",
       "\n",
       "[An example notebook to get you started](https://gist.github.com/kwinkunks/50f11dac6ab7ff8c3e6c7b34536501a2)\n",
       "\n",
       "----\n",
       "\n",
       "© 2021 Agile Scientific, licensed CC-BY\n"
      ],
      "text/plain": [
       "<IPython.core.display.Markdown object>"
      ]
     },
     "execution_count": 100,
     "metadata": {},
     "output_type": "execute_result"
    }
   ],
   "source": [
    "import requests\n",
    "from IPython.display import Markdown\n",
    "\n",
    "url = 'https://kata.geosci.ai/challenge/fossil-hunting'\n",
    "r = requests.get(url)\n",
    "print(r.status_code)\n",
    "Markdown(r.text)"
   ]
  },
  {
   "cell_type": "code",
   "execution_count": 109,
   "metadata": {},
   "outputs": [
    {
     "name": "stdout",
     "output_type": "stream",
     "text": [
      "<Response [200]>\n"
     ]
    },
    {
     "data": {
      "text/plain": [
       "'283.3🦠🦠🐠🦠🦄🦄🐚🦠🐚🦠🦄🦠🦄🐟🦄🦠🐚🦄🐚🐟🐟🦄🦄🐟🦄🦄🐚🐟🦠🦠🦠🦠🦄🦐🦠🐠🦄🦄🦄🐟🐠🐟🦠🦄🦠🦠🦠🦠🐚🐟🦄🦄🐚🐟🦠🦠🦠🦄🐚🐟🦠🐚🦄🦄🐟🐟🐚🐟🐟🐠🦠🦠🦠🐚🦠🐟🦠🐚🦄🐟🦠🐚🦠🐠🐟🦄🦠🦠🐚🦄🐟🦠🐚🦠🐚🐟🐚🐚🦠🦠🦠🐟🦄🐟🐚🐟🐠🦄🐟🦠🐚🐟🐠🦠324.7🌿🌿🐠🦐🐚🐚🐠🐟🐠🦐🦄🐠🐚🐚🦄🐚🌿🐠🦄🐠🌿🦐🐚🐚🐠🐠🦐🐠🌿🐚🦄🐠🌿🐠🦐🦐🦐🦄🌿🌿🌿🦐🌿🦄🐠🐠🦄🐠🐚🦄🐚🦄🌿🌿🐚🐠🦄🐠🐚🦄🐠🐠🌿🌿🐠🦐334.0🐚🌿🌿🦐🦄🐠🦐🐠🐠🐚🐚🐚🌿🌿🌿🌿🌿🦄🐠🐚🌿🌿🌿🐠🦐🦐🦄🦄🦄🐚🦐🦐🐟🦄🐠🌿🐠🦄🦄🦐🦄🦐🐚🌿🌿🌿🌿🦄🦄🐚🌿🌿🐠🦄🦄🌿🐚🐚🐚🐠🌿🌿🐚🐠🦄🦄🌿🐚🐠🦄🌿🌿377.0🌿🌿🌿🦄🌟🦄🦠🌿🦄🦠🌟🦄🌿🌿🌿🌿🦠🌿🌟🌿🌿🌟🦄🌿🦠🌟🦠🌿368.2🦄🌿🌿🦄🌟🌿🌿🦠🦠🦠🌿🌿🌿🌿🌿🦠🦠🦠🌿🦄🦠🌿🌿🌿🌿🦠🌿🦠🦠🦠🦄🌿🌟🦠🦠🌿🌿🦠192.4🦄🦄🦄🦄🦄🦄🦄🦄🦄🦄🦄🦄🦄🦄390.8🌟🌟🌿🌟🌟🌿🌿🌿🌟🌟🌿🌟🌿🌟🌟🌿🌿🌿🌟381.6🌟🌟🌟🦄🌟🌿🌟🌟🌟...'"
      ]
     },
     "execution_count": 109,
     "metadata": {},
     "output_type": "execute_result"
    }
   ],
   "source": [
    "my_key = \"MH\"\n",
    "params = {'key': my_key}\n",
    "r = requests.get(url, params)\n",
    "print(r)\n",
    "source = r.text\n",
    "source[:400] + '...'\n",
    "\n"
   ]
  },
  {
   "cell_type": "code",
   "execution_count": 123,
   "metadata": {},
   "outputs": [
    {
     "data": {
      "text/plain": [
       "[('🦄', 2226),\n",
       " ('🐟', 1420),\n",
       " ('🌿', 1372),\n",
       " ('🦠', 1059),\n",
       " ('🐚', 1048),\n",
       " ('🐠', 940),\n",
       " ('🦐', 556),\n",
       " ('🌟', 239)]"
      ]
     },
     "execution_count": 123,
     "metadata": {},
     "output_type": "execute_result"
    }
   ],
   "source": [
    "import re\n",
    "from collections import Counter\n",
    "\n",
    "AGE_PATTERN = '\\d+.\\d'\n",
    "EMOJI_PATTERN = (\"[\" # https://en.wikipedia.org/wiki/Unicode_block\n",
    "    \"\\U0001F1E0-\\U0001F1FF\"  # flags (iOS)\n",
    "    \"\\U0001F300-\\U0001F5FF\"  # symbols & pictographs\n",
    "    \"\\U0001F600-\\U0001F64F\"  # emoticons\n",
    "    \"\\U0001F680-\\U0001F6FF\"  # transport & map symbols\n",
    "    \"\\U0001F700-\\U0001F77F\"  # alchemical symbols\n",
    "    \"\\U0001F780-\\U0001F7FF\"  # Geometric Shapes Extended\n",
    "    \"\\U0001F800-\\U0001F8FF\"  # Supplemental Arrows-C\n",
    "    \"\\U0001F900-\\U0001F9FF\"  # Supplemental Symbols and Pictographs\n",
    "    \"\\U0001FA00-\\U0001FA6F\"  # Chess Symbols\n",
    "    \"\\U0001FA70-\\U0001FAFF\"  # Symbols and Pictographs Extended-A\n",
    "    \"\\U00002702-\\U000027B0\"  # Dingbats\n",
    "    \"\\U000024C2-\\U0001F251\" \n",
    "    \"]\")\n",
    "\n",
    "FOSSIL_RECORD_PATTERN = f'({AGE_PATTERN})' + f'({EMOJI_PATTERN}*)'\n",
    "result = re.findall(FOSSIL_RECORD_PATTERN, source)\n",
    "\n",
    "# create a dict containing counters for each age\n",
    "fossil_counts_by_age = {float(age): Counter(fossils) for age, fossils in result}\n",
    "\n",
    "# count all fossils\n",
    "all_fossils = Counter()\n",
    "# add up all fossils\n",
    "for c in fossil_counts_by_age.values():\n",
    "    all_fossils += c\n",
    "\n",
    "most_common_fossils = all_fossils.most_common(8)\n",
    "most_common_fossils\n"
   ]
  },
  {
   "cell_type": "code",
   "execution_count": 124,
   "metadata": {},
   "outputs": [
    {
     "name": "stdout",
     "output_type": "stream",
     "text": [
      "Answer: 1\n",
      "Correct!\n"
     ]
    }
   ],
   "source": [
    "answer1 = most_common_fossils[0][1]\n",
    "answers = [answer1,]# answer2, answer3, answer4]\n",
    "\n",
    "for n, answer in enumerate(answers, start=1):\n",
    "\n",
    "    params = {'key': my_key,\n",
    "            'question': n,\n",
    "            'answer': answer\n",
    "            }\n",
    "\n",
    "    r = requests.get(url, params)\n",
    "    print(f'Answer: {n}')\n",
    "    print(r.text)"
   ]
  }
 ],
 "metadata": {
  "interpreter": {
   "hash": "8ffe812cc978bbbceedabb2b9debbb786aca253c20b4f14ddd31576b2ba796e5"
  },
  "kernelspec": {
   "display_name": "Python 3.8.5 64-bit ('general': conda)",
   "language": "python",
   "name": "python3"
  },
  "language_info": {
   "codemirror_mode": {
    "name": "ipython",
    "version": 3
   },
   "file_extension": ".py",
   "mimetype": "text/x-python",
   "name": "python",
   "nbconvert_exporter": "python",
   "pygments_lexer": "ipython3",
   "version": "3.8.5"
  },
  "orig_nbformat": 4
 },
 "nbformat": 4,
 "nbformat_minor": 2
}
