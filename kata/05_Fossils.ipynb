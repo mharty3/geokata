{
 "cells": [
  {
   "cell_type": "code",
   "execution_count": 1,
   "metadata": {},
   "outputs": [
    {
     "name": "stdout",
     "output_type": "stream",
     "text": [
      "200\n"
     ]
    },
    {
     "data": {
      "text/markdown": [
       "# Fossil hunting\n",
       "\n",
       "We have some fossil abundance data. Each record contains a number, which represents a geological age, and zero or more fossil symbols. One symbol represents one example of that fossil. For example, we might have a record like this:\n",
       "\n",
       "    349.8🦐🐚🐚🐟🐟🦐\n",
       "    \n",
       "The number is the age of the sample in units of 'millions of years before the present', to 4 significant figures, and is unique (there are no duplicate records). It is immediately followed by the fossil counts for that sample. For example, this record indicates that the samples collected from rocks with age = 349.8 Ma contained two shrimps, two gastropod shells, and two fish specimens.\n",
       "\n",
       "Your actual dataset will be much larger than this. It's also less organized: the records are not in order.\n",
       "\n",
       "There are four questions to answer about your data:\n",
       "\n",
       "1. How many samples are there of the most abundant organism?\n",
       "2. What is the age of the oldest record with maximum diversity?\n",
       "3. What is the span (first to last appearance) of the most abundant organism?\n",
       "4. At what age is the latest appearance of the last fossil to appear?\n",
       "\n",
       "When the answer is an age, give 1 decimal place of precision.\n",
       "\n",
       "\n",
       "## Example\n",
       "\n",
       "    345.1🐟\n",
       "    346.2🐚🐚🐟\n",
       "    348.7🐚🦐\n",
       "    349.8🦐🐚🐚🐟🐟🦐\n",
       "    350.0🐚🦐🦐🐚🦐🦐\n",
       "    351.7🦐🐟🦐\n",
       "    353.8🦐\n",
       "    354.9\n",
       "\n",
       "We'd answer the questions this way:\n",
       "\n",
       "1. The most abundant organism is the shrimp, with **10** specimens.\n",
       "2. The oldest record with the maximum diversity (3 fossil types) is **349.8**\n",
       "3. The span of the most abundant organism (the shrimp) is 353.8 - 348.7 = **5.1**\n",
       "4. The last fossil to appear (the shell) last appears at an age of **346.2**\n",
       "\n",
       "\n",
       "## A quick reminder how this works\n",
       "\n",
       "This document is formatted in Markdown.\n",
       "\n",
       "You can retrieve your data, which is always a string, by choosing any Python string as a **`<KEY>`** and substituting here:\n",
       "    \n",
       "    https://kata.geosci.ai/challenge/fossil-hunting?key=<KEY>\n",
       "                                                        ^^^^^\n",
       "                                                        use your own string here\n",
       "\n",
       "To answer question 1, make a request like:\n",
       "\n",
       "    https://kata.geosci.ai/challenge/fossil-hunting?key=<KEY>&question=1&answer=1234\n",
       "                                                        ^^^^^          ^        ^^^^\n",
       "                                                        your key       Q        your answer\n",
       "\n",
       "To get a hint for question 1, do this (a key is not needed):\n",
       "\n",
       "    https://kata.geosci.ai/challenge/fossil-hunting?question=1\n",
       "                                                             ^\n",
       "                                                             Q\n",
       "\n",
       "[Complete instructions at kata.geosci.ai](https://kata.geosci.ai/challenge)\n",
       "\n",
       "[An example notebook to get you started](https://gist.github.com/kwinkunks/50f11dac6ab7ff8c3e6c7b34536501a2)\n",
       "\n",
       "----\n",
       "\n",
       "© 2021 Agile Scientific, licensed CC-BY\n"
      ],
      "text/plain": [
       "<IPython.core.display.Markdown object>"
      ]
     },
     "execution_count": 1,
     "metadata": {},
     "output_type": "execute_result"
    }
   ],
   "source": [
    "import requests\n",
    "from IPython.display import Markdown\n",
    "\n",
    "url = 'https://kata.geosci.ai/challenge/fossil-hunting'\n",
    "r = requests.get(url)\n",
    "print(r.status_code)\n",
    "Markdown(r.text)"
   ]
  },
  {
   "cell_type": "code",
   "execution_count": 2,
   "metadata": {},
   "outputs": [
    {
     "name": "stdout",
     "output_type": "stream",
     "text": [
      "<Response [200]>\n"
     ]
    },
    {
     "data": {
      "text/plain": [
       "'283.3🦠🦠🐠🦠🦄🦄🐚🦠🐚🦠🦄🦠🦄🐟🦄🦠🐚🦄🐚🐟🐟🦄🦄🐟🦄🦄🐚🐟🦠🦠🦠🦠🦄🦐🦠🐠🦄🦄🦄🐟🐠🐟🦠🦄🦠🦠🦠🦠🐚🐟🦄🦄🐚🐟🦠🦠🦠🦄🐚🐟🦠🐚🦄🦄🐟🐟🐚🐟🐟🐠🦠🦠🦠🐚🦠🐟🦠🐚🦄🐟🦠🐚🦠🐠🐟🦄🦠🦠🐚🦄🐟🦠🐚🦠🐚🐟🐚🐚🦠🦠🦠🐟🦄🐟🐚🐟🐠🦄🐟🦠🐚🐟🐠🦠324.7🌿🌿🐠🦐🐚🐚🐠🐟🐠🦐🦄🐠🐚🐚🦄🐚🌿🐠🦄🐠🌿🦐🐚🐚🐠🐠🦐🐠🌿🐚🦄🐠🌿🐠🦐🦐🦐🦄🌿🌿🌿🦐🌿🦄🐠🐠🦄🐠🐚🦄🐚🦄🌿🌿🐚🐠🦄🐠🐚🦄🐠🐠🌿🌿🐠🦐334.0🐚🌿🌿🦐🦄🐠🦐🐠🐠🐚🐚🐚🌿🌿🌿🌿🌿🦄🐠🐚🌿🌿🌿🐠🦐🦐🦄🦄🦄🐚🦐🦐🐟🦄🐠🌿🐠🦄🦄🦐🦄🦐🐚🌿🌿🌿🌿🦄🦄🐚🌿🌿🐠🦄🦄🌿🐚🐚🐚🐠🌿🌿🐚🐠🦄🦄🌿🐚🐠🦄🌿🌿377.0🌿🌿🌿🦄🌟🦄🦠🌿🦄🦠🌟🦄🌿🌿🌿🌿🦠🌿🌟🌿🌿🌟🦄🌿🦠🌟🦠🌿368.2🦄🌿🌿🦄🌟🌿🌿🦠🦠🦠🌿🌿🌿🌿🌿🦠🦠🦠🌿🦄🦠🌿🌿🌿🌿🦠🌿🦠🦠🦠🦄🌿🌟🦠🦠🌿🌿🦠192.4🦄🦄🦄🦄🦄🦄🦄🦄🦄🦄🦄🦄🦄🦄390.8🌟🌟🌿🌟🌟🌿🌿🌿🌟🌟🌿🌟🌿🌟🌟🌿🌿🌿🌟381.6🌟🌟🌟🦄🌟🌿🌟🌟🌟...'"
      ]
     },
     "execution_count": 2,
     "metadata": {},
     "output_type": "execute_result"
    }
   ],
   "source": [
    "my_key = \"MH\"\n",
    "params = {'key': my_key}\n",
    "r = requests.get(url, params)\n",
    "print(r)\n",
    "source = r.text\n",
    "source[:400] + '...'"
   ]
  },
  {
   "cell_type": "code",
   "execution_count": 3,
   "metadata": {},
   "outputs": [
    {
     "data": {
      "text/plain": [
       "{283.3: {'🐚', '🐟', '🐠', '🦄', '🦐', '🦠'},\n",
       " 324.7: {'🌿', '🐚', '🐟', '🐠', '🦄', '🦐'},\n",
       " 334.0: {'🌿', '🐚', '🐟', '🐠', '🦄', '🦐'},\n",
       " 377.0: {'🌟', '🌿', '🦄', '🦠'},\n",
       " 368.2: {'🌟', '🌿', '🦄', '🦠'},\n",
       " 192.4: {'🦄'},\n",
       " 390.8: {'🌟', '🌿'},\n",
       " 381.6: {'🌟', '🌿', '🦄', '🦠'},\n",
       " 395.6: {'🌟', '🌿'},\n",
       " 220.2: {'🐟', '🦄'},\n",
       " 223.1: {'🐟', '🦄'},\n",
       " 212.7: {'🐟', '🦄'},\n",
       " 312.8: {'🌟', '🌿', '🐚', '🐟', '🐠', '🦄', '🦐'},\n",
       " 265.6: {'🐚', '🐟', '🐠', '🦄', '🦐', '🦠'},\n",
       " 306.7: {'🌟', '🌿', '🐚', '🐟', '🐠', '🦄', '🦐'},\n",
       " 222.1: {'🐟', '🦄'},\n",
       " 228.3: {'🐟', '🦄'},\n",
       " 393.0: {'🌟', '🌿'},\n",
       " 295.9: {'🌟', '🌿', '🐚', '🐟', '🐠', '🦄', '🦐', '🦠'},\n",
       " 175.8: {'🦄'},\n",
       " 230.9: {'🐟', '🦄'},\n",
       " 243.3: {'🐚', '🐟', '🐠', '🦄', '🦠'},\n",
       " 349.8: {'🌿', '🐚', '🐟', '🦄', '🦠'},\n",
       " 265.0: {'🐚', '🐟', '🐠', '🦄', '🦐', '🦠'},\n",
       " 245.6: {'🐚', '🐟', '🐠', '🦄', '🦠'},\n",
       " 245.3: {'🐚', '🐟', '🐠', '🦄', '🦠'},\n",
       " 327.7: {'🌿', '🐚', '🐠', '🦄', '🦐'},\n",
       " 260.9: {'🐚', '🐟', '🐠', '🦄', '🦐', '🦠'},\n",
       " 291.0: {'🌟', '🌿', '🐚', '🐟', '🐠', '🦄', '🦐', '🦠'},\n",
       " 320.1: {'🌿', '🐚', '🐟', '🐠', '🦄', '🦐'},\n",
       " 174.6: {'🦄'},\n",
       " 318.7: {'🌿', '🐚', '🐟', '🐠', '🦄', '🦐'},\n",
       " 344.0: {'🌿', '🐚', '🐟', '🐠', '🦄', '🦠'},\n",
       " 200.7: {'🦄'},\n",
       " 193.5: {'🦄'},\n",
       " 331.3: {'🌿', '🐚', '🐠', '🦄', '🦐'},\n",
       " 335.4: {'🌿', '🐚', '🐟', '🐠', '🦄', '🦐'},\n",
       " 300.2: {'🌟', '🌿', '🐚', '🐟', '🐠', '🦄', '🦐', '🦠'},\n",
       " 209.0: {'🐟', '🦄'},\n",
       " 286.6: {'🐚', '🐟', '🐠', '🦄', '🦠'},\n",
       " 357.1: {'🌿', '🐟', '🦄', '🦠'},\n",
       " 347.1: {'🌿', '🐚', '🐟', '🦄', '🦠'},\n",
       " 263.2: {'🐚', '🐟', '🐠', '🦄', '🦐', '🦠'},\n",
       " 183.3: {'🦄'},\n",
       " 224.5: {'🐟', '🦄'},\n",
       " 212.1: {'🐟', '🦄'},\n",
       " 275.2: {'🐚', '🐟', '🐠', '🦄', '🦐', '🦠'},\n",
       " 256.7: {'🐚', '🐟', '🐠', '🦄', '🦐', '🦠'},\n",
       " 379.2: {'🌟', '🌿', '🦄', '🦠'},\n",
       " 394.6: {'🌟', '🌿'},\n",
       " 337.0: {'🌿', '🐚', '🐟', '🐠', '🦄', '🦐'},\n",
       " 204.8: {'🦄'},\n",
       " 387.8: {'🌟', '🌿', '🦄'},\n",
       " 236.8: {'🐟', '🦄', '🦠'},\n",
       " 318.0: {'🌿', '🐚', '🐟', '🐠', '🦄', '🦐'},\n",
       " 370.8: {'🌟', '🌿', '🦄', '🦠'},\n",
       " 394.4: {'🌟', '🌿'},\n",
       " 247.7: {'🐚', '🐟', '🐠', '🦄', '🦠'},\n",
       " 275.7: {'🐚', '🐟', '🐠', '🦄', '🦐', '🦠'},\n",
       " 220.9: {'🐟', '🦄'},\n",
       " 316.4: {'🌿', '🐚', '🐟', '🐠', '🦄', '🦐'},\n",
       " 373.5: {'🌟', '🌿', '🦄', '🦠'},\n",
       " 238.3: {'🐟', '🦄', '🦠'},\n",
       " 388.5: {'🌟', '🌿'},\n",
       " 344.8: {'🌿', '🐚', '🐟', '🐠', '🦄', '🦠'},\n",
       " 219.3: {'🐟', '🦄'},\n",
       " 224.0: {'🐟', '🦄'},\n",
       " 359.8: {'🌿', '🐟', '🦄', '🦠'},\n",
       " 185.6: {'🦄'},\n",
       " 171.5: {'🦄'},\n",
       " 240.9: {'🐚', '🐟', '🐠', '🦄', '🦠'},\n",
       " 234.1: {'🐟', '🦄', '🦠'},\n",
       " 304.4: {'🌟', '🌿', '🐚', '🐟', '🐠', '🦄', '🦐'},\n",
       " 190.2: {'🦄'},\n",
       " 308.7: {'🌟', '🌿', '🐚', '🐟', '🐠', '🦄', '🦐'},\n",
       " 259.8: {'🐚', '🐟', '🐠', '🦄', '🦐', '🦠'},\n",
       " 179.0: {'🦄'},\n",
       " 277.2: {'🐚', '🐟', '🐠', '🦄', '🦐', '🦠'},\n",
       " 176.5: {'🦄'},\n",
       " 278.4: {'🐚', '🐟', '🐠', '🦄', '🦐', '🦠'},\n",
       " 302.9: {'🌟', '🌿', '🐚', '🐟', '🐠', '🦄', '🦐', '🦠'},\n",
       " 385.6: {'🌟', '🌿', '🦄'},\n",
       " 398.3: {'🌿'},\n",
       " 365.8: {'🌟', '🌿', '🦄', '🦠'},\n",
       " 202.3: {'🦄'},\n",
       " 383.1: {'🌟', '🌿', '🦄'},\n",
       " 338.0: {'🌿', '🐚', '🐟', '🐠', '🦄'},\n",
       " 270.0: {'🐚', '🐟', '🐠', '🦄', '🦐', '🦠'},\n",
       " 359.4: {'🌿', '🐟', '🦄', '🦠'},\n",
       " 314.2: {'🌟', '🌿', '🐚', '🐟', '🐠', '🦄', '🦐'},\n",
       " 230.4: {'🐟', '🦄'},\n",
       " 392.1: {'🌟', '🌿'},\n",
       " 353.3: {'🌿', '🐟', '🦄', '🦠'},\n",
       " 362.2: {'🌿', '🦄', '🦠'},\n",
       " 255.6: {'🐚', '🐟', '🐠', '🦄', '🦐', '🦠'},\n",
       " 251.7: {'🐚', '🐟', '🐠', '🦄', '🦠'},\n",
       " 298.8: {'🌟', '🌿', '🐚', '🐟', '🐠', '🦄', '🦐', '🦠'},\n",
       " 235.6: {'🐟', '🦄', '🦠'},\n",
       " 397.4: {'🌟', '🌿'},\n",
       " 338.5: {'🌿', '🐚', '🐟', '🐠', '🦄'},\n",
       " 305.0: {'🌟', '🌿', '🐚', '🐟', '🐠', '🦄', '🦐'},\n",
       " 249.2: {'🐚', '🐟', '🐠', '🦄', '🦠'},\n",
       " 362.9: {'🌿', '🦄', '🦠'},\n",
       " 280.3: {'🐚', '🐟', '🐠', '🦄', '🦐', '🦠'},\n",
       " 380.6: {'🌟', '🌿', '🦄', '🦠'},\n",
       " 364.0: {'🌟', '🌿', '🦄', '🦠'},\n",
       " 210.9: {'🐟', '🦄'},\n",
       " 244.3: {'🐚', '🐟', '🐠', '🦄', '🦠'},\n",
       " 172.7: {'🦄'},\n",
       " 341.7: {'🌿', '🐚', '🐟', '🐠', '🦄'},\n",
       " 174.0: {'🦄'},\n",
       " 357.6: {'🌿', '🐟', '🦄', '🦠'},\n",
       " 232.3: {'🐟', '🦄'},\n",
       " 217.9: {'🐟', '🦄'},\n",
       " 340.6: {'🌿', '🐚', '🐟', '🐠', '🦄'},\n",
       " 307.7: {'🌟', '🌿', '🐚', '🐟', '🐠', '🦄', '🦐'},\n",
       " 228.7: {'🐟', '🦄'},\n",
       " 284.8: {'🐚', '🐟', '🐠', '🦄', '🦠'},\n",
       " 181.1: {'🦄'},\n",
       " 352.4: {'🌿', '🐚', '🐟', '🦄', '🦠'},\n",
       " 293.7: {'🌟', '🌿', '🐚', '🐟', '🐠', '🦄', '🦐', '🦠'},\n",
       " 385.1: {'🌟', '🌿', '🦄'},\n",
       " 351.4: {'🌿', '🐚', '🐟', '🦄', '🦠'},\n",
       " 271.9: {'🐚', '🐟', '🐠', '🦄', '🦐', '🦠'},\n",
       " 208.0: {'🐟', '🦄'},\n",
       " 371.8: {'🌟', '🌿', '🦄', '🦠'},\n",
       " 214.0: {'🐟', '🦄'},\n",
       " 282.4: {'🐚', '🐟', '🐠', '🦄', '🦐', '🦠'},\n",
       " 234.9: {'🐟', '🦄', '🦠'},\n",
       " 311.0: {'🌟', '🌿', '🐚', '🐟', '🐠', '🦄', '🦐'},\n",
       " 294.7: {'🌟', '🌿', '🐚', '🐟', '🐠', '🦄', '🦐', '🦠'},\n",
       " 339.9: {'🌿', '🐚', '🐟', '🐠', '🦄'},\n",
       " 349.2: {'🌿', '🐚', '🐟', '🦄', '🦠'},\n",
       " 306.4: {'🌟', '🌿', '🐚', '🐟', '🐠', '🦄', '🦐'},\n",
       " 195.8: {'🦄'},\n",
       " 239.8: {'🐚', '🐟', '🦄', '🦠'},\n",
       " 196.7: {'🦄'},\n",
       " 254.9: {'🐚', '🐟', '🐠', '🦄', '🦐', '🦠'},\n",
       " 328.9: {'🌿', '🐚', '🐠', '🦄', '🦐'},\n",
       " 192.6: {'🦄'},\n",
       " 259.2: {'🐚', '🐟', '🐠', '🦄', '🦐', '🦠'},\n",
       " 284.1: {'🐚', '🐟', '🐠', '🦄', '🦠'},\n",
       " 266.6: {'🐚', '🐟', '🐠', '🦄', '🦐', '🦠'},\n",
       " 262.3: {'🐚', '🐟', '🐠', '🦄', '🦐', '🦠'},\n",
       " 227.1: {'🐟', '🦄'},\n",
       " 297.4: {'🌟', '🌿', '🐚', '🐟', '🐠', '🦄', '🦐', '🦠'},\n",
       " 320.9: {'🌿', '🐚', '🐟', '🐠', '🦄', '🦐'},\n",
       " 238.7: {'🐚', '🐟', '🦄', '🦠'},\n",
       " 346.1: {'🌿', '🐚', '🐟', '🦄', '🦠'},\n",
       " 323.0: {'🌿', '🐚', '🐟', '🐠', '🦄', '🦐'},\n",
       " 279.2: {'🐚', '🐟', '🐠', '🦄', '🦐', '🦠'},\n",
       " 190.5: {'🦄'},\n",
       " 273.2: {'🐚', '🐟', '🐠', '🦄', '🦐', '🦠'},\n",
       " 200.1: {'🦄'},\n",
       " 322.3: {'🌿', '🐚', '🐟', '🐠', '🦄', '🦐'},\n",
       " 325.9: {'🌿', '🐚', '🐟', '🐠', '🦄', '🦐'},\n",
       " 225.8: {'🐟', '🦄'},\n",
       " 292.6: {'🌟', '🌿', '🐚', '🐟', '🐠', '🦄', '🦐', '🦠'},\n",
       " 215.1: {'🐟', '🦄'},\n",
       " 253.3: {'🐚', '🐟', '🐠', '🦄', '🦐', '🦠'},\n",
       " 315.3: {'🌿', '🐚', '🐟', '🐠', '🦄', '🦐'},\n",
       " 297.8: {'🌟', '🌿', '🐚', '🐟', '🐠', '🦄', '🦐', '🦠'},\n",
       " 217.4: {'🐟', '🦄'},\n",
       " 356.3: {'🌿', '🐟', '🦄', '🦠'},\n",
       " 317.0: {'🌿', '🐚', '🐟', '🐠', '🦄', '🦐'},\n",
       " 184.9: {'🦄'},\n",
       " 241.7: {'🐚', '🐟', '🐠', '🦄', '🦠'},\n",
       " 179.9: {'🦄'},\n",
       " 274.2: {'🐚', '🐟', '🐠', '🦄', '🦐', '🦠'},\n",
       " 309.6: {'🌟', '🌿', '🐚', '🐟', '🐠', '🦄', '🦐'},\n",
       " 376.3: {'🌟', '🌿', '🦄', '🦠'},\n",
       " 203.1: {'🦄'},\n",
       " 342.6: {'🌿', '🐚', '🐟', '🐠', '🦄', '🦠'},\n",
       " 285.6: {'🐚', '🐟', '🐠', '🦄', '🦠'},\n",
       " 171.4: {'🦄'},\n",
       " 292.0: {'🌟', '🌿', '🐚', '🐟', '🐠', '🦄', '🦐', '🦠'},\n",
       " 369.3: {'🌟', '🌿', '🦄', '🦠'},\n",
       " 354.0: {'🌿', '🐟', '🦄', '🦠'},\n",
       " 203.9: {'🦄'},\n",
       " 374.7: {'🌟', '🌿', '🦄', '🦠'},\n",
       " 327.1: {'🌿', '🐚', '🐟', '🐠', '🦄', '🦐'}}"
      ]
     },
     "execution_count": 3,
     "metadata": {},
     "output_type": "execute_result"
    }
   ],
   "source": [
    "import re\n",
    "import pandas as pd\n",
    "from collections import Counter\n",
    "\n",
    "# use regex to parse the input\n",
    "AGE_PATTERN = '\\d+.\\d'\n",
    "EMOJI_PATTERN = (\"[\" # https://en.wikipedia.org/wiki/Unicode_block\n",
    "    \"\\U0001F1E0-\\U0001F1FF\"  # flags (iOS)\n",
    "    \"\\U0001F300-\\U0001F5FF\"  # symbols & pictographs\n",
    "    \"\\U0001F600-\\U0001F64F\"  # emoticons\n",
    "    \"\\U0001F680-\\U0001F6FF\"  # transport & map symbols\n",
    "    \"\\U0001F700-\\U0001F77F\"  # alchemical symbols\n",
    "    \"\\U0001F780-\\U0001F7FF\"  # Geometric Shapes Extended\n",
    "    \"\\U0001F800-\\U0001F8FF\"  # Supplemental Arrows-C\n",
    "    \"\\U0001F900-\\U0001F9FF\"  # Supplemental Symbols and Pictographs\n",
    "    \"\\U0001FA00-\\U0001FA6F\"  # Chess Symbols\n",
    "    \"\\U0001FA70-\\U0001FAFF\"  # Symbols and Pictographs Extended-A\n",
    "    \"\\U00002702-\\U000027B0\"  # Dingbats\n",
    "    \"\\U000024C2-\\U0001F251\" \n",
    "    \"]\")\n",
    "\n",
    "FOSSIL_RECORD_PATTERN = f'({AGE_PATTERN})' + f'({EMOJI_PATTERN}*)'\n",
    "parsed = re.findall(FOSSIL_RECORD_PATTERN, source)\n",
    "\n",
    "# unique fossils\n",
    "unique_fossils = [char for char in set(source) if not char.isascii()]\n",
    "# create a dict containing counters for each age\n",
    "fossils_present_per_age = {float(age): set(fossils) for age, fossils in parsed if len(fossils) > 0}\n",
    "\n",
    "fossils_present_per_age\n"
   ]
  },
  {
   "cell_type": "code",
   "execution_count": 4,
   "metadata": {},
   "outputs": [
    {
     "data": {
      "text/plain": [
       "[('🦄', 2226),\n",
       " ('🐟', 1420),\n",
       " ('🌿', 1372),\n",
       " ('🦠', 1059),\n",
       " ('🐚', 1048),\n",
       " ('🐠', 940),\n",
       " ('🦐', 556),\n",
       " ('🌟', 239)]"
      ]
     },
     "execution_count": 4,
     "metadata": {},
     "output_type": "execute_result"
    }
   ],
   "source": [
    "# How many samples are there of the most abundant organism?\n",
    "most_common_fossils = [(fossil, count) for fossil, count in Counter(source).most_common() if not fossil.isascii()]\n",
    "answer1 = most_common_fossils[0][0]\n",
    "most_common_fossils"
   ]
  },
  {
   "cell_type": "code",
   "execution_count": 5,
   "metadata": {},
   "outputs": [
    {
     "name": "stdout",
     "output_type": "stream",
     "text": [
      "8 302.9\n"
     ]
    }
   ],
   "source": [
    "# What is the age of the oldest record with maximum diversity?\n",
    "max_diversity = max([len(fossils) for fossils in fossils_present_per_age.values()])\n",
    "answer2 = max([age for age, fossils in fossils_present_per_age.items() if len(fossils) == max_diversity])\n",
    "\n",
    "print(max_diversity, answer2)"
   ]
  },
  {
   "cell_type": "markdown",
   "metadata": {},
   "source": [
    "## Biostrat\n",
    "The next two questions require some biostratigraphic calculations:\n",
    "* When a fossil is first observed, known as the **First Appearance Datum or FAD**\n",
    "* When a fossil is last observed, known as the **Last Appearance Datum or LAD**\n",
    "* What is a fossil's range: FAD - LAD"
   ]
  },
  {
   "cell_type": "code",
   "execution_count": 6,
   "metadata": {},
   "outputs": [
    {
     "data": {
      "text/html": [
       "<div>\n",
       "<style scoped>\n",
       "    .dataframe tbody tr th:only-of-type {\n",
       "        vertical-align: middle;\n",
       "    }\n",
       "\n",
       "    .dataframe tbody tr th {\n",
       "        vertical-align: top;\n",
       "    }\n",
       "\n",
       "    .dataframe thead th {\n",
       "        text-align: right;\n",
       "    }\n",
       "</style>\n",
       "<table border=\"1\" class=\"dataframe\">\n",
       "  <thead>\n",
       "    <tr style=\"text-align: right;\">\n",
       "      <th></th>\n",
       "      <th>fad</th>\n",
       "      <th>lad</th>\n",
       "      <th>rng</th>\n",
       "    </tr>\n",
       "  </thead>\n",
       "  <tbody>\n",
       "    <tr>\n",
       "      <th>🐟</th>\n",
       "      <td>359.8</td>\n",
       "      <td>208.0</td>\n",
       "      <td>151.8</td>\n",
       "    </tr>\n",
       "    <tr>\n",
       "      <th>🐠</th>\n",
       "      <td>344.8</td>\n",
       "      <td>240.9</td>\n",
       "      <td>103.9</td>\n",
       "    </tr>\n",
       "    <tr>\n",
       "      <th>🐚</th>\n",
       "      <td>352.4</td>\n",
       "      <td>238.7</td>\n",
       "      <td>113.7</td>\n",
       "    </tr>\n",
       "    <tr>\n",
       "      <th>🦐</th>\n",
       "      <td>337.0</td>\n",
       "      <td>253.3</td>\n",
       "      <td>83.7</td>\n",
       "    </tr>\n",
       "    <tr>\n",
       "      <th>🌿</th>\n",
       "      <td>398.3</td>\n",
       "      <td>291.0</td>\n",
       "      <td>107.3</td>\n",
       "    </tr>\n",
       "    <tr>\n",
       "      <th>🦄</th>\n",
       "      <td>387.8</td>\n",
       "      <td>171.4</td>\n",
       "      <td>216.4</td>\n",
       "    </tr>\n",
       "    <tr>\n",
       "      <th>🌟</th>\n",
       "      <td>397.4</td>\n",
       "      <td>291.0</td>\n",
       "      <td>106.4</td>\n",
       "    </tr>\n",
       "    <tr>\n",
       "      <th>🦠</th>\n",
       "      <td>381.6</td>\n",
       "      <td>234.1</td>\n",
       "      <td>147.5</td>\n",
       "    </tr>\n",
       "  </tbody>\n",
       "</table>\n",
       "</div>"
      ],
      "text/plain": [
       "     fad    lad    rng\n",
       "🐟  359.8  208.0  151.8\n",
       "🐠  344.8  240.9  103.9\n",
       "🐚  352.4  238.7  113.7\n",
       "🦐  337.0  253.3   83.7\n",
       "🌿  398.3  291.0  107.3\n",
       "🦄  387.8  171.4  216.4\n",
       "🌟  397.4  291.0  106.4\n",
       "🦠  381.6  234.1  147.5"
      ]
     },
     "execution_count": 6,
     "metadata": {},
     "output_type": "execute_result"
    }
   ],
   "source": [
    "fossil_stats = dict()\n",
    "for fossil in unique_fossils:\n",
    "    ages_where_fossil_was_found = [float(age) for age, fossils in fossils_present_per_age.items() if fossil in fossils]\n",
    "\n",
    "    fad = max(ages_where_fossil_was_found) # first appearance datum\n",
    "    lad = min(ages_where_fossil_was_found) # last appearance datum\n",
    "    rng = round(fad - lad, 1)\n",
    "    stats = dict(fad=fad, lad=lad, rng=rng)\n",
    "    \n",
    "\n",
    "    fossil_stats[fossil] = stats\n",
    "\n",
    "fossil_stats_df = pd.DataFrame(fossil_stats).T\n",
    "fossil_stats_df\n"
   ]
  },
  {
   "cell_type": "code",
   "execution_count": 7,
   "metadata": {},
   "outputs": [
    {
     "data": {
      "text/plain": [
       "216.4"
      ]
     },
     "execution_count": 7,
     "metadata": {},
     "output_type": "execute_result"
    }
   ],
   "source": [
    "# What is the span (first to last appearance) of the most abundant organism?\n",
    "answer3 = fossil_stats_df.loc[most_common_fossils[0][0], 'rng']\n",
    "answer3"
   ]
  },
  {
   "cell_type": "code",
   "execution_count": 8,
   "metadata": {},
   "outputs": [
    {
     "name": "stdout",
     "output_type": "stream",
     "text": [
      "🦐 253.3\n"
     ]
    }
   ],
   "source": [
    "# At what age is the latest appearance of the last fossil to appear?\n",
    "last_fossil_to_appear = fossil_stats_df.fad.idxmin()\n",
    "answer4 = fossil_stats_df.loc[last_fossil_to_appear, 'lad']\n",
    "print(last_fossil_to_appear, answer4)"
   ]
  },
  {
   "cell_type": "code",
   "execution_count": 9,
   "metadata": {},
   "outputs": [
    {
     "name": "stdout",
     "output_type": "stream",
     "text": [
      "[2226, 302.9, 216.4, 253.3]\n",
      "Answer: 1\n",
      "Correct!\n",
      "Answer: 2\n",
      "Correct!\n",
      "Answer: 3\n",
      "Correct!\n",
      "Answer: 4\n",
      "Correct! The next challenge is https://kata.geosci.ai/challenge/true-vertical-depth - good luck!\n"
     ]
    }
   ],
   "source": [
    "answer1 = most_common_fossils[0][1]\n",
    "answers = [answer1, answer2, answer3, answer4]\n",
    "print(answers)\n",
    "for n, answer in enumerate(answers, start=1):\n",
    "\n",
    "    params = {'key': my_key,\n",
    "            'question': n,\n",
    "            'answer': answer\n",
    "            }\n",
    "\n",
    "    r = requests.get(url, params)\n",
    "    print(f'Answer: {n}')\n",
    "    print(r.text)"
   ]
  }
 ],
 "metadata": {
  "interpreter": {
   "hash": "8ffe812cc978bbbceedabb2b9debbb786aca253c20b4f14ddd31576b2ba796e5"
  },
  "kernelspec": {
   "display_name": "Python 3.8.5 64-bit ('general': conda)",
   "language": "python",
   "name": "python3"
  },
  "language_info": {
   "codemirror_mode": {
    "name": "ipython",
    "version": 3
   },
   "file_extension": ".py",
   "mimetype": "text/x-python",
   "name": "python",
   "nbconvert_exporter": "python",
   "pygments_lexer": "ipython3",
   "version": "3.8.5"
  },
  "orig_nbformat": 4
 },
 "nbformat": 4,
 "nbformat_minor": 2
}
